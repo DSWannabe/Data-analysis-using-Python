{
  "nbformat": 4,
  "nbformat_minor": 0,
  "metadata": {
    "colab": {
      "provenance": []
    },
    "kernelspec": {
      "name": "python3",
      "display_name": "Python 3"
    },
    "language_info": {
      "name": "python"
    },
    "widgets": {
      "application/vnd.jupyter.widget-state+json": {
        "2496f483c42a4959a8e8cb28e26a6641": {
          "model_module": "@jupyter-widgets/controls",
          "model_name": "HBoxModel",
          "model_module_version": "1.5.0",
          "state": {
            "_dom_classes": [],
            "_model_module": "@jupyter-widgets/controls",
            "_model_module_version": "1.5.0",
            "_model_name": "HBoxModel",
            "_view_count": null,
            "_view_module": "@jupyter-widgets/controls",
            "_view_module_version": "1.5.0",
            "_view_name": "HBoxView",
            "box_style": "",
            "children": [
              "IPY_MODEL_d8b40df2bc5c45a9a92f6d554760285e",
              "IPY_MODEL_6e3d6577193646fe86715ed3e6a8b823",
              "IPY_MODEL_db261a9c3ef744c280f9ded01e31a40a"
            ],
            "layout": "IPY_MODEL_39d04e86ea1a49ffb1c79133e5b1ee56"
          }
        },
        "d8b40df2bc5c45a9a92f6d554760285e": {
          "model_module": "@jupyter-widgets/controls",
          "model_name": "HTMLModel",
          "model_module_version": "1.5.0",
          "state": {
            "_dom_classes": [],
            "_model_module": "@jupyter-widgets/controls",
            "_model_module_version": "1.5.0",
            "_model_name": "HTMLModel",
            "_view_count": null,
            "_view_module": "@jupyter-widgets/controls",
            "_view_module_version": "1.5.0",
            "_view_name": "HTMLView",
            "description": "",
            "description_tooltip": null,
            "layout": "IPY_MODEL_2bdc01d217834f7a9234043b24acd89e",
            "placeholder": "​",
            "style": "IPY_MODEL_67ceaac47eaf46999bc81a4454d05089",
            "value": "100%"
          }
        },
        "6e3d6577193646fe86715ed3e6a8b823": {
          "model_module": "@jupyter-widgets/controls",
          "model_name": "FloatProgressModel",
          "model_module_version": "1.5.0",
          "state": {
            "_dom_classes": [],
            "_model_module": "@jupyter-widgets/controls",
            "_model_module_version": "1.5.0",
            "_model_name": "FloatProgressModel",
            "_view_count": null,
            "_view_module": "@jupyter-widgets/controls",
            "_view_module_version": "1.5.0",
            "_view_name": "ProgressView",
            "bar_style": "success",
            "description": "",
            "description_tooltip": null,
            "layout": "IPY_MODEL_29df7627fd3a4ce78f96981744cc30e1",
            "max": 100000,
            "min": 0,
            "orientation": "horizontal",
            "style": "IPY_MODEL_ae6dfbf1b89e472b9eda5237a4005109",
            "value": 100000
          }
        },
        "db261a9c3ef744c280f9ded01e31a40a": {
          "model_module": "@jupyter-widgets/controls",
          "model_name": "HTMLModel",
          "model_module_version": "1.5.0",
          "state": {
            "_dom_classes": [],
            "_model_module": "@jupyter-widgets/controls",
            "_model_module_version": "1.5.0",
            "_model_name": "HTMLModel",
            "_view_count": null,
            "_view_module": "@jupyter-widgets/controls",
            "_view_module_version": "1.5.0",
            "_view_name": "HTMLView",
            "description": "",
            "description_tooltip": null,
            "layout": "IPY_MODEL_51424a05a6b9466194b9afd48a9df548",
            "placeholder": "​",
            "style": "IPY_MODEL_dac0351ef31a4bdeb820c4d8d93e038f",
            "value": " 100000/100000 [00:12&lt;00:00, 8647.95it/s]"
          }
        },
        "39d04e86ea1a49ffb1c79133e5b1ee56": {
          "model_module": "@jupyter-widgets/base",
          "model_name": "LayoutModel",
          "model_module_version": "1.2.0",
          "state": {
            "_model_module": "@jupyter-widgets/base",
            "_model_module_version": "1.2.0",
            "_model_name": "LayoutModel",
            "_view_count": null,
            "_view_module": "@jupyter-widgets/base",
            "_view_module_version": "1.2.0",
            "_view_name": "LayoutView",
            "align_content": null,
            "align_items": null,
            "align_self": null,
            "border": null,
            "bottom": null,
            "display": null,
            "flex": null,
            "flex_flow": null,
            "grid_area": null,
            "grid_auto_columns": null,
            "grid_auto_flow": null,
            "grid_auto_rows": null,
            "grid_column": null,
            "grid_gap": null,
            "grid_row": null,
            "grid_template_areas": null,
            "grid_template_columns": null,
            "grid_template_rows": null,
            "height": null,
            "justify_content": null,
            "justify_items": null,
            "left": null,
            "margin": null,
            "max_height": null,
            "max_width": null,
            "min_height": null,
            "min_width": null,
            "object_fit": null,
            "object_position": null,
            "order": null,
            "overflow": null,
            "overflow_x": null,
            "overflow_y": null,
            "padding": null,
            "right": null,
            "top": null,
            "visibility": null,
            "width": null
          }
        },
        "2bdc01d217834f7a9234043b24acd89e": {
          "model_module": "@jupyter-widgets/base",
          "model_name": "LayoutModel",
          "model_module_version": "1.2.0",
          "state": {
            "_model_module": "@jupyter-widgets/base",
            "_model_module_version": "1.2.0",
            "_model_name": "LayoutModel",
            "_view_count": null,
            "_view_module": "@jupyter-widgets/base",
            "_view_module_version": "1.2.0",
            "_view_name": "LayoutView",
            "align_content": null,
            "align_items": null,
            "align_self": null,
            "border": null,
            "bottom": null,
            "display": null,
            "flex": null,
            "flex_flow": null,
            "grid_area": null,
            "grid_auto_columns": null,
            "grid_auto_flow": null,
            "grid_auto_rows": null,
            "grid_column": null,
            "grid_gap": null,
            "grid_row": null,
            "grid_template_areas": null,
            "grid_template_columns": null,
            "grid_template_rows": null,
            "height": null,
            "justify_content": null,
            "justify_items": null,
            "left": null,
            "margin": null,
            "max_height": null,
            "max_width": null,
            "min_height": null,
            "min_width": null,
            "object_fit": null,
            "object_position": null,
            "order": null,
            "overflow": null,
            "overflow_x": null,
            "overflow_y": null,
            "padding": null,
            "right": null,
            "top": null,
            "visibility": null,
            "width": null
          }
        },
        "67ceaac47eaf46999bc81a4454d05089": {
          "model_module": "@jupyter-widgets/controls",
          "model_name": "DescriptionStyleModel",
          "model_module_version": "1.5.0",
          "state": {
            "_model_module": "@jupyter-widgets/controls",
            "_model_module_version": "1.5.0",
            "_model_name": "DescriptionStyleModel",
            "_view_count": null,
            "_view_module": "@jupyter-widgets/base",
            "_view_module_version": "1.2.0",
            "_view_name": "StyleView",
            "description_width": ""
          }
        },
        "29df7627fd3a4ce78f96981744cc30e1": {
          "model_module": "@jupyter-widgets/base",
          "model_name": "LayoutModel",
          "model_module_version": "1.2.0",
          "state": {
            "_model_module": "@jupyter-widgets/base",
            "_model_module_version": "1.2.0",
            "_model_name": "LayoutModel",
            "_view_count": null,
            "_view_module": "@jupyter-widgets/base",
            "_view_module_version": "1.2.0",
            "_view_name": "LayoutView",
            "align_content": null,
            "align_items": null,
            "align_self": null,
            "border": null,
            "bottom": null,
            "display": null,
            "flex": null,
            "flex_flow": null,
            "grid_area": null,
            "grid_auto_columns": null,
            "grid_auto_flow": null,
            "grid_auto_rows": null,
            "grid_column": null,
            "grid_gap": null,
            "grid_row": null,
            "grid_template_areas": null,
            "grid_template_columns": null,
            "grid_template_rows": null,
            "height": null,
            "justify_content": null,
            "justify_items": null,
            "left": null,
            "margin": null,
            "max_height": null,
            "max_width": null,
            "min_height": null,
            "min_width": null,
            "object_fit": null,
            "object_position": null,
            "order": null,
            "overflow": null,
            "overflow_x": null,
            "overflow_y": null,
            "padding": null,
            "right": null,
            "top": null,
            "visibility": null,
            "width": null
          }
        },
        "ae6dfbf1b89e472b9eda5237a4005109": {
          "model_module": "@jupyter-widgets/controls",
          "model_name": "ProgressStyleModel",
          "model_module_version": "1.5.0",
          "state": {
            "_model_module": "@jupyter-widgets/controls",
            "_model_module_version": "1.5.0",
            "_model_name": "ProgressStyleModel",
            "_view_count": null,
            "_view_module": "@jupyter-widgets/base",
            "_view_module_version": "1.2.0",
            "_view_name": "StyleView",
            "bar_color": null,
            "description_width": ""
          }
        },
        "51424a05a6b9466194b9afd48a9df548": {
          "model_module": "@jupyter-widgets/base",
          "model_name": "LayoutModel",
          "model_module_version": "1.2.0",
          "state": {
            "_model_module": "@jupyter-widgets/base",
            "_model_module_version": "1.2.0",
            "_model_name": "LayoutModel",
            "_view_count": null,
            "_view_module": "@jupyter-widgets/base",
            "_view_module_version": "1.2.0",
            "_view_name": "LayoutView",
            "align_content": null,
            "align_items": null,
            "align_self": null,
            "border": null,
            "bottom": null,
            "display": null,
            "flex": null,
            "flex_flow": null,
            "grid_area": null,
            "grid_auto_columns": null,
            "grid_auto_flow": null,
            "grid_auto_rows": null,
            "grid_column": null,
            "grid_gap": null,
            "grid_row": null,
            "grid_template_areas": null,
            "grid_template_columns": null,
            "grid_template_rows": null,
            "height": null,
            "justify_content": null,
            "justify_items": null,
            "left": null,
            "margin": null,
            "max_height": null,
            "max_width": null,
            "min_height": null,
            "min_width": null,
            "object_fit": null,
            "object_position": null,
            "order": null,
            "overflow": null,
            "overflow_x": null,
            "overflow_y": null,
            "padding": null,
            "right": null,
            "top": null,
            "visibility": null,
            "width": null
          }
        },
        "dac0351ef31a4bdeb820c4d8d93e038f": {
          "model_module": "@jupyter-widgets/controls",
          "model_name": "DescriptionStyleModel",
          "model_module_version": "1.5.0",
          "state": {
            "_model_module": "@jupyter-widgets/controls",
            "_model_module_version": "1.5.0",
            "_model_name": "DescriptionStyleModel",
            "_view_count": null,
            "_view_module": "@jupyter-widgets/base",
            "_view_module_version": "1.2.0",
            "_view_name": "StyleView",
            "description_width": ""
          }
        },
        "8190c4c6e3b24e23b5685f0735d7fb61": {
          "model_module": "@jupyter-widgets/controls",
          "model_name": "HBoxModel",
          "model_module_version": "1.5.0",
          "state": {
            "_dom_classes": [],
            "_model_module": "@jupyter-widgets/controls",
            "_model_module_version": "1.5.0",
            "_model_name": "HBoxModel",
            "_view_count": null,
            "_view_module": "@jupyter-widgets/controls",
            "_view_module_version": "1.5.0",
            "_view_name": "HBoxView",
            "box_style": "",
            "children": [
              "IPY_MODEL_957b190e7a8d42aab28b472b390d44ef",
              "IPY_MODEL_fb94cf759c98441f89a11c3ceb88a045",
              "IPY_MODEL_62097d45e6fe4c0483731bc6b39871b3"
            ],
            "layout": "IPY_MODEL_097f1b8f33ca4bd29d3b01c077677ad2"
          }
        },
        "957b190e7a8d42aab28b472b390d44ef": {
          "model_module": "@jupyter-widgets/controls",
          "model_name": "HTMLModel",
          "model_module_version": "1.5.0",
          "state": {
            "_dom_classes": [],
            "_model_module": "@jupyter-widgets/controls",
            "_model_module_version": "1.5.0",
            "_model_name": "HTMLModel",
            "_view_count": null,
            "_view_module": "@jupyter-widgets/controls",
            "_view_module_version": "1.5.0",
            "_view_name": "HTMLView",
            "description": "",
            "description_tooltip": null,
            "layout": "IPY_MODEL_f10644ec4c134cf381a0348487dd6915",
            "placeholder": "​",
            "style": "IPY_MODEL_c8fe3393f30a41fd910752f2686ebc02",
            "value": "100%"
          }
        },
        "fb94cf759c98441f89a11c3ceb88a045": {
          "model_module": "@jupyter-widgets/controls",
          "model_name": "FloatProgressModel",
          "model_module_version": "1.5.0",
          "state": {
            "_dom_classes": [],
            "_model_module": "@jupyter-widgets/controls",
            "_model_module_version": "1.5.0",
            "_model_name": "FloatProgressModel",
            "_view_count": null,
            "_view_module": "@jupyter-widgets/controls",
            "_view_module_version": "1.5.0",
            "_view_name": "ProgressView",
            "bar_style": "success",
            "description": "",
            "description_tooltip": null,
            "layout": "IPY_MODEL_4a3d94f06cfd468eb6a263416e6e4f91",
            "max": 100000,
            "min": 0,
            "orientation": "horizontal",
            "style": "IPY_MODEL_f9718b2aefdc4f2d81eba829d4a55a10",
            "value": 100000
          }
        },
        "62097d45e6fe4c0483731bc6b39871b3": {
          "model_module": "@jupyter-widgets/controls",
          "model_name": "HTMLModel",
          "model_module_version": "1.5.0",
          "state": {
            "_dom_classes": [],
            "_model_module": "@jupyter-widgets/controls",
            "_model_module_version": "1.5.0",
            "_model_name": "HTMLModel",
            "_view_count": null,
            "_view_module": "@jupyter-widgets/controls",
            "_view_module_version": "1.5.0",
            "_view_name": "HTMLView",
            "description": "",
            "description_tooltip": null,
            "layout": "IPY_MODEL_6e7accc7dfc744f5a465beae027beacb",
            "placeholder": "​",
            "style": "IPY_MODEL_8a52e659301945b5a98b46ea8b30bfc9",
            "value": " 100000/100000 [00:23&lt;00:00, 4260.51it/s]"
          }
        },
        "097f1b8f33ca4bd29d3b01c077677ad2": {
          "model_module": "@jupyter-widgets/base",
          "model_name": "LayoutModel",
          "model_module_version": "1.2.0",
          "state": {
            "_model_module": "@jupyter-widgets/base",
            "_model_module_version": "1.2.0",
            "_model_name": "LayoutModel",
            "_view_count": null,
            "_view_module": "@jupyter-widgets/base",
            "_view_module_version": "1.2.0",
            "_view_name": "LayoutView",
            "align_content": null,
            "align_items": null,
            "align_self": null,
            "border": null,
            "bottom": null,
            "display": null,
            "flex": null,
            "flex_flow": null,
            "grid_area": null,
            "grid_auto_columns": null,
            "grid_auto_flow": null,
            "grid_auto_rows": null,
            "grid_column": null,
            "grid_gap": null,
            "grid_row": null,
            "grid_template_areas": null,
            "grid_template_columns": null,
            "grid_template_rows": null,
            "height": null,
            "justify_content": null,
            "justify_items": null,
            "left": null,
            "margin": null,
            "max_height": null,
            "max_width": null,
            "min_height": null,
            "min_width": null,
            "object_fit": null,
            "object_position": null,
            "order": null,
            "overflow": null,
            "overflow_x": null,
            "overflow_y": null,
            "padding": null,
            "right": null,
            "top": null,
            "visibility": null,
            "width": null
          }
        },
        "f10644ec4c134cf381a0348487dd6915": {
          "model_module": "@jupyter-widgets/base",
          "model_name": "LayoutModel",
          "model_module_version": "1.2.0",
          "state": {
            "_model_module": "@jupyter-widgets/base",
            "_model_module_version": "1.2.0",
            "_model_name": "LayoutModel",
            "_view_count": null,
            "_view_module": "@jupyter-widgets/base",
            "_view_module_version": "1.2.0",
            "_view_name": "LayoutView",
            "align_content": null,
            "align_items": null,
            "align_self": null,
            "border": null,
            "bottom": null,
            "display": null,
            "flex": null,
            "flex_flow": null,
            "grid_area": null,
            "grid_auto_columns": null,
            "grid_auto_flow": null,
            "grid_auto_rows": null,
            "grid_column": null,
            "grid_gap": null,
            "grid_row": null,
            "grid_template_areas": null,
            "grid_template_columns": null,
            "grid_template_rows": null,
            "height": null,
            "justify_content": null,
            "justify_items": null,
            "left": null,
            "margin": null,
            "max_height": null,
            "max_width": null,
            "min_height": null,
            "min_width": null,
            "object_fit": null,
            "object_position": null,
            "order": null,
            "overflow": null,
            "overflow_x": null,
            "overflow_y": null,
            "padding": null,
            "right": null,
            "top": null,
            "visibility": null,
            "width": null
          }
        },
        "c8fe3393f30a41fd910752f2686ebc02": {
          "model_module": "@jupyter-widgets/controls",
          "model_name": "DescriptionStyleModel",
          "model_module_version": "1.5.0",
          "state": {
            "_model_module": "@jupyter-widgets/controls",
            "_model_module_version": "1.5.0",
            "_model_name": "DescriptionStyleModel",
            "_view_count": null,
            "_view_module": "@jupyter-widgets/base",
            "_view_module_version": "1.2.0",
            "_view_name": "StyleView",
            "description_width": ""
          }
        },
        "4a3d94f06cfd468eb6a263416e6e4f91": {
          "model_module": "@jupyter-widgets/base",
          "model_name": "LayoutModel",
          "model_module_version": "1.2.0",
          "state": {
            "_model_module": "@jupyter-widgets/base",
            "_model_module_version": "1.2.0",
            "_model_name": "LayoutModel",
            "_view_count": null,
            "_view_module": "@jupyter-widgets/base",
            "_view_module_version": "1.2.0",
            "_view_name": "LayoutView",
            "align_content": null,
            "align_items": null,
            "align_self": null,
            "border": null,
            "bottom": null,
            "display": null,
            "flex": null,
            "flex_flow": null,
            "grid_area": null,
            "grid_auto_columns": null,
            "grid_auto_flow": null,
            "grid_auto_rows": null,
            "grid_column": null,
            "grid_gap": null,
            "grid_row": null,
            "grid_template_areas": null,
            "grid_template_columns": null,
            "grid_template_rows": null,
            "height": null,
            "justify_content": null,
            "justify_items": null,
            "left": null,
            "margin": null,
            "max_height": null,
            "max_width": null,
            "min_height": null,
            "min_width": null,
            "object_fit": null,
            "object_position": null,
            "order": null,
            "overflow": null,
            "overflow_x": null,
            "overflow_y": null,
            "padding": null,
            "right": null,
            "top": null,
            "visibility": null,
            "width": null
          }
        },
        "f9718b2aefdc4f2d81eba829d4a55a10": {
          "model_module": "@jupyter-widgets/controls",
          "model_name": "ProgressStyleModel",
          "model_module_version": "1.5.0",
          "state": {
            "_model_module": "@jupyter-widgets/controls",
            "_model_module_version": "1.5.0",
            "_model_name": "ProgressStyleModel",
            "_view_count": null,
            "_view_module": "@jupyter-widgets/base",
            "_view_module_version": "1.2.0",
            "_view_name": "StyleView",
            "bar_color": null,
            "description_width": ""
          }
        },
        "6e7accc7dfc744f5a465beae027beacb": {
          "model_module": "@jupyter-widgets/base",
          "model_name": "LayoutModel",
          "model_module_version": "1.2.0",
          "state": {
            "_model_module": "@jupyter-widgets/base",
            "_model_module_version": "1.2.0",
            "_model_name": "LayoutModel",
            "_view_count": null,
            "_view_module": "@jupyter-widgets/base",
            "_view_module_version": "1.2.0",
            "_view_name": "LayoutView",
            "align_content": null,
            "align_items": null,
            "align_self": null,
            "border": null,
            "bottom": null,
            "display": null,
            "flex": null,
            "flex_flow": null,
            "grid_area": null,
            "grid_auto_columns": null,
            "grid_auto_flow": null,
            "grid_auto_rows": null,
            "grid_column": null,
            "grid_gap": null,
            "grid_row": null,
            "grid_template_areas": null,
            "grid_template_columns": null,
            "grid_template_rows": null,
            "height": null,
            "justify_content": null,
            "justify_items": null,
            "left": null,
            "margin": null,
            "max_height": null,
            "max_width": null,
            "min_height": null,
            "min_width": null,
            "object_fit": null,
            "object_position": null,
            "order": null,
            "overflow": null,
            "overflow_x": null,
            "overflow_y": null,
            "padding": null,
            "right": null,
            "top": null,
            "visibility": null,
            "width": null
          }
        },
        "8a52e659301945b5a98b46ea8b30bfc9": {
          "model_module": "@jupyter-widgets/controls",
          "model_name": "DescriptionStyleModel",
          "model_module_version": "1.5.0",
          "state": {
            "_model_module": "@jupyter-widgets/controls",
            "_model_module_version": "1.5.0",
            "_model_name": "DescriptionStyleModel",
            "_view_count": null,
            "_view_module": "@jupyter-widgets/base",
            "_view_module_version": "1.2.0",
            "_view_name": "StyleView",
            "description_width": ""
          }
        }
      }
    }
  },
  "cells": [
    {
      "cell_type": "markdown",
      "source": [
        "# Business analytics - Fall 2024\n",
        "Instructor: Dr. Ilia Tetin\n",
        "\n",
        "## Seminar 1: Simulations in Python\n",
        "\n",
        "In this seminar, we will discuss how to simulate various random variables in Python  and solve different problems using simulations."
      ],
      "metadata": {
        "id": "lAtqyHGvy2kv"
      }
    },
    {
      "cell_type": "code",
      "source": [
        "import random\n",
        "import time\n",
        "import numpy as np         # library for matrices and mathematics\n",
        "import pandas as pd        # library for working with tables\n",
        "from scipy import stats    # module for statistical functions\n",
        "\n",
        "# Libraries for visualization and plotting\n",
        "import matplotlib.pyplot as plt\n",
        "import seaborn as sns\n",
        "\n",
        "plt.style.use('ggplot')    # you can choose your favorite style for plots\n",
        "%matplotlib inline"
      ],
      "metadata": {
        "id": "3A4VhZOJLp1X"
      },
      "execution_count": 88,
      "outputs": []
    },
    {
      "cell_type": "code",
      "source": [
        "2+2"
      ],
      "metadata": {
        "colab": {
          "base_uri": "https://localhost:8080/"
        },
        "id": "F5yw2QPxIbax",
        "outputId": "d2b364d1-3c36-40fe-f69c-975f0d704526"
      },
      "execution_count": 89,
      "outputs": [
        {
          "output_type": "execute_result",
          "data": {
            "text/plain": [
              "4"
            ]
          },
          "metadata": {},
          "execution_count": 89
        }
      ]
    },
    {
      "cell_type": "code",
      "source": [
        "a = [1, 2, 3]\n",
        "b = [5, 6, 7]\n",
        "a + b"
      ],
      "metadata": {
        "colab": {
          "base_uri": "https://localhost:8080/"
        },
        "id": "LcijuLHTIfhK",
        "outputId": "783b926b-b400-41f6-b03e-eeee7d66884a"
      },
      "execution_count": 90,
      "outputs": [
        {
          "output_type": "execute_result",
          "data": {
            "text/plain": [
              "[1, 2, 3, 5, 6, 7]"
            ]
          },
          "metadata": {},
          "execution_count": 90
        }
      ]
    },
    {
      "cell_type": "code",
      "source": [
        "3*a"
      ],
      "metadata": {
        "colab": {
          "base_uri": "https://localhost:8080/"
        },
        "id": "IYrtnMjZIqe-",
        "outputId": "8792aa39-b16f-4433-fe5e-65e1138b70b2"
      },
      "execution_count": 91,
      "outputs": [
        {
          "output_type": "execute_result",
          "data": {
            "text/plain": [
              "[1, 2, 3, 1, 2, 3, 1, 2, 3]"
            ]
          },
          "metadata": {},
          "execution_count": 91
        }
      ]
    },
    {
      "cell_type": "code",
      "source": [
        "x = np.array(a)\n",
        "y = np.array([5, 6, 7])\n"
      ],
      "metadata": {
        "id": "bRLiEgfcIv91"
      },
      "execution_count": 92,
      "outputs": []
    },
    {
      "cell_type": "code",
      "source": [
        "x+y"
      ],
      "metadata": {
        "colab": {
          "base_uri": "https://localhost:8080/"
        },
        "id": "NaM-QXb5I2r0",
        "outputId": "80d07271-4360-46ab-d430-40ec41237732"
      },
      "execution_count": 93,
      "outputs": [
        {
          "output_type": "execute_result",
          "data": {
            "text/plain": [
              "array([ 6,  8, 10])"
            ]
          },
          "metadata": {},
          "execution_count": 93
        }
      ]
    },
    {
      "cell_type": "code",
      "source": [
        "3*x"
      ],
      "metadata": {
        "colab": {
          "base_uri": "https://localhost:8080/"
        },
        "id": "Y-FRlFHCI6m8",
        "outputId": "988745bf-3b49-493f-def6-ffe38a6336ff"
      },
      "execution_count": 94,
      "outputs": [
        {
          "output_type": "execute_result",
          "data": {
            "text/plain": [
              "array([3, 6, 9])"
            ]
          },
          "metadata": {},
          "execution_count": 94
        }
      ]
    },
    {
      "cell_type": "markdown",
      "source": [
        "### header\n",
        "\n",
        "write smth $$x^2 = \\frac{45}{51}$$"
      ],
      "metadata": {
        "id": "HyWuyGtlJJsD"
      }
    },
    {
      "cell_type": "code",
      "source": [
        "x @ y # x.dot(y)"
      ],
      "metadata": {
        "colab": {
          "base_uri": "https://localhost:8080/"
        },
        "id": "LgExXzlJI9ky",
        "outputId": "335f46c4-1aea-4151-f3c4-69117f96f093"
      },
      "execution_count": 95,
      "outputs": [
        {
          "output_type": "execute_result",
          "data": {
            "text/plain": [
              "38"
            ]
          },
          "metadata": {},
          "execution_count": 95
        }
      ]
    },
    {
      "cell_type": "markdown",
      "source": [
        "$$ X \\sim N(0, 1); X \\sim N(\\mu, \\sigma)$$"
      ],
      "metadata": {
        "id": "zqXR81wZJ4jQ"
      }
    },
    {
      "cell_type": "code",
      "source": [
        "norm_rv = stats.norm(loc=0, scale=1)\n",
        "norm_rv.rvs(1)[0]"
      ],
      "metadata": {
        "colab": {
          "base_uri": "https://localhost:8080/"
        },
        "id": "cd0-LFrJJgN1",
        "outputId": "08f409f1-8ae1-487b-e261-b812cee9e748"
      },
      "execution_count": 96,
      "outputs": [
        {
          "output_type": "execute_result",
          "data": {
            "text/plain": [
              "-1.1815270577639672"
            ]
          },
          "metadata": {},
          "execution_count": 96
        }
      ]
    },
    {
      "cell_type": "code",
      "source": [
        "norm_rv.rvs(2)"
      ],
      "metadata": {
        "colab": {
          "base_uri": "https://localhost:8080/"
        },
        "id": "Sy1JY2VlKOBc",
        "outputId": "5dc42645-08df-4f80-ffcc-782959d9600f"
      },
      "execution_count": 97,
      "outputs": [
        {
          "output_type": "execute_result",
          "data": {
            "text/plain": [
              "array([0.56996225, 0.12620173])"
            ]
          },
          "metadata": {},
          "execution_count": 97
        }
      ]
    },
    {
      "cell_type": "code",
      "source": [
        "np.mean(norm_rv.rvs(10**5)), np.std(norm_rv.rvs(10**5))"
      ],
      "metadata": {
        "colab": {
          "base_uri": "https://localhost:8080/"
        },
        "id": "p_lV6oDMKaYy",
        "outputId": "2e93be75-3c6c-4eda-f230-3b0396be1e9f"
      },
      "execution_count": 98,
      "outputs": [
        {
          "output_type": "execute_result",
          "data": {
            "text/plain": [
              "(-0.0038162970256421717, 0.9991193172893122)"
            ]
          },
          "metadata": {},
          "execution_count": 98
        }
      ]
    },
    {
      "cell_type": "code",
      "source": [
        "np.random.seed(111)\n",
        "vals = norm_rv.rvs(10**5)\n",
        "vals[:5]\n"
      ],
      "metadata": {
        "colab": {
          "base_uri": "https://localhost:8080/"
        },
        "id": "-G4_loZ8Kq_2",
        "outputId": "b2cf7eec-c9a5-4401-ac78-dc4243015569"
      },
      "execution_count": 99,
      "outputs": [
        {
          "output_type": "execute_result",
          "data": {
            "text/plain": [
              "array([-1.13383833,  0.38431919,  1.49655378, -0.3553823 , -0.78753354])"
            ]
          },
          "metadata": {},
          "execution_count": 99
        }
      ]
    },
    {
      "cell_type": "code",
      "source": [
        "np.var(vals)"
      ],
      "metadata": {
        "colab": {
          "base_uri": "https://localhost:8080/"
        },
        "id": "YM4FAU7pLDkJ",
        "outputId": "f6d60053-18a2-45ba-b757-76d6fa6d2d54"
      },
      "execution_count": 100,
      "outputs": [
        {
          "output_type": "execute_result",
          "data": {
            "text/plain": [
              "0.9918419356890368"
            ]
          },
          "metadata": {},
          "execution_count": 100
        }
      ]
    },
    {
      "cell_type": "code",
      "source": [
        "np.random.seed(111)\n",
        "norm_rv1 = stats.norm(loc=2, scale=1)\n",
        "norm_rv2 = stats.norm(loc=0, scale=2)\n",
        "print(np.mean(norm_rv1.rvs(10**5)), np.std(norm_rv1.rvs(10**5)))\n",
        "print(np.mean(norm_rv2.rvs(10**5)), np.std(norm_rv2.rvs(10**5)))\n"
      ],
      "metadata": {
        "colab": {
          "base_uri": "https://localhost:8080/"
        },
        "id": "3C7ikXBaLJ3w",
        "outputId": "b8d0b5bb-7518-41ce-fae1-05b2052c7fc0"
      },
      "execution_count": 101,
      "outputs": [
        {
          "output_type": "stream",
          "name": "stdout",
          "text": [
            "1.9937342414139076 0.9956206594015417\n",
            "-0.005320368536200199 1.993972755507696\n"
          ]
        }
      ]
    },
    {
      "cell_type": "code",
      "source": [
        "np.linspace(-5, 5, 5)"
      ],
      "metadata": {
        "colab": {
          "base_uri": "https://localhost:8080/"
        },
        "id": "PYO_cfb0LpdO",
        "outputId": "41066b6f-0999-40aa-c221-f605440285a9"
      },
      "execution_count": 102,
      "outputs": [
        {
          "output_type": "execute_result",
          "data": {
            "text/plain": [
              "array([-5. , -2.5,  0. ,  2.5,  5. ])"
            ]
          },
          "metadata": {},
          "execution_count": 102
        }
      ]
    },
    {
      "cell_type": "code",
      "source": [
        "t = np.linspace(-5, 5, 1000)\n",
        "\n",
        "ft = norm_rv.pdf(t)\n",
        "plt.plot(t, ft)\n",
        "plt.title('PDF');"
      ],
      "metadata": {
        "colab": {
          "base_uri": "https://localhost:8080/",
          "height": 473
        },
        "id": "Gs2vSw5WLiME",
        "outputId": "8e08e05f-9626-46de-bf25-f192e944ab05"
      },
      "execution_count": 105,
      "outputs": [
        {
          "output_type": "display_data",
          "data": {
            "text/plain": [
              "<Figure size 640x480 with 1 Axes>"
            ],
            "image/png": "[encoded data removed]"
          },
          "metadata": {}
        }
      ]
    },
    {
      "cell_type": "markdown",
      "source": [
        "## 1. Warm-up\n",
        "\n",
        "In the warm-up problems, you can use both classic Python and numpy.\n",
        "\n",
        "### Problem 1 (Coin Flips)\n",
        "Oleg and Miron have coins. They flip them and shout \"HEADS - TAILS\". Oleg's coin comes up heads with a probability of 0.6. Miron's coin comes up heads with a probability of 0.4. Miron and Oleg flip their coins until they get heads.\n",
        "\n",
        "(a) Use simulations to find the probability that Oleg will make more flips than Miron.\n"
      ],
      "metadata": {
        "id": "mVwuCE4lLpc7"
      }
    },
    {
      "cell_type": "code",
      "source": [
        "np.random.choice(['head', 'tail'], p=[0.6, 0.4])"
      ],
      "metadata": {
        "colab": {
          "base_uri": "https://localhost:8080/",
          "height": 55
        },
        "id": "xGHqCSF0QyK_",
        "outputId": "314fa9ef-43b0-4155-d16f-c7d4efb0964d"
      },
      "execution_count": 142,
      "outputs": [
        {
          "output_type": "execute_result",
          "data": {
            "text/plain": [
              "'head'"
            ],
            "application/vnd.google.colaboratory.intrinsic+json": {
              "type": "string"
            }
          },
          "metadata": {},
          "execution_count": 142
        }
      ]
    },
    {
      "cell_type": "code",
      "source": [
        "from tqdm.notebook import tqdm"
      ],
      "metadata": {
        "id": "lCJQumIMOP5z"
      },
      "execution_count": 143,
      "outputs": []
    },
    {
      "cell_type": "code",
      "source": [
        "def game():\n",
        "    oleg_res = 'tail'\n",
        "    miron_res = 'tail'\n",
        "    oleg_cnt = 0\n",
        "    miron_cnt = 0\n",
        "\n",
        "    while oleg_res == 'tail':\n",
        "        oleg_res = np.random.choice(['head', 'tail'], p=[0.6, 0.4])\n",
        "        oleg_cnt += 1\n",
        "\n",
        "    while miron_res == 'tail':\n",
        "        miron_res = np.random.choice(['head', 'tail'], p=[0.4, 0.6])\n",
        "        miron_cnt += 1\n",
        "\n",
        "    return oleg_cnt, miron_cnt\n",
        "\n",
        "n_obs = 10**5\n",
        "oleg_wins = 0\n",
        "for i in tqdm(range(n_obs)):\n",
        "    oleg_cnt, miron_cnt = game()\n",
        "    if oleg_cnt > miron_cnt:\n",
        "        oleg_wins += 1\n",
        "\n",
        "print(f'Oleg wins with probability: {oleg_wins / n_obs}')\n",
        "\n",
        ""
      ],
      "metadata": {
        "id": "_C9qYX-7NqrL",
        "colab": {
          "base_uri": "https://localhost:8080/",
          "height": 86,
          "referenced_widgets": [
            "2496f483c42a4959a8e8cb28e26a6641",
            "d8b40df2bc5c45a9a92f6d554760285e",
            "6e3d6577193646fe86715ed3e6a8b823",
            "db261a9c3ef744c280f9ded01e31a40a",
            "39d04e86ea1a49ffb1c79133e5b1ee56",
            "2bdc01d217834f7a9234043b24acd89e",
            "67ceaac47eaf46999bc81a4454d05089",
            "29df7627fd3a4ce78f96981744cc30e1",
            "ae6dfbf1b89e472b9eda5237a4005109",
            "51424a05a6b9466194b9afd48a9df548",
            "dac0351ef31a4bdeb820c4d8d93e038f"
          ]
        },
        "outputId": "2314e16e-6e40-4c48-ca1f-ccee769e1f35"
      },
      "execution_count": 146,
      "outputs": [
        {
          "output_type": "display_data",
          "data": {
            "text/plain": [
              "  0%|          | 0/100000 [00:00<?, ?it/s]"
            ],
            "application/vnd.jupyter.widget-view+json": {
              "version_major": 2,
              "version_minor": 0,
              "model_id": "2496f483c42a4959a8e8cb28e26a6641"
            }
          },
          "metadata": {}
        },
        {
          "output_type": "stream",
          "name": "stdout",
          "text": [
            "Oleg wins with probability: 0.20896\n"
          ]
        }
      ]
    },
    {
      "cell_type": "markdown",
      "source": [
        "(b) Let X be the number of flips Miron makes, and Y be the number of flips Oleg makes. Use simulations to find E(X - Y).\n",
        "\n"
      ],
      "metadata": {
        "id": "yK31b9vj759M"
      }
    },
    {
      "cell_type": "code",
      "source": [],
      "metadata": {
        "id": "wgPAZs7xNrdT"
      },
      "execution_count": 45,
      "outputs": []
    },
    {
      "cell_type": "markdown",
      "source": [
        "### Problem 2 (The Python)\n",
        "\n",
        "Anatoly the Python loves French baguettes. The length of a French baguette is 1 meter. With each gulp, Anatoly swallows a piece of random length, uniformly distributed over the interval `[0, 1]`. To eat the entire baguette, Anatoly needs a random number `N` of gulps. Use simulations to find `E(N)` and `Var(N)`. This problem is very challenging to solve analytically, but you can give it a try.\n"
      ],
      "metadata": {
        "id": "r1NiqdGU_fjd"
      }
    },
    {
      "cell_type": "code",
      "source": [
        "stats.uniform.rvs(0, 1, 10)"
      ],
      "metadata": {
        "colab": {
          "base_uri": "https://localhost:8080/"
        },
        "id": "gipwjDhPNUlB",
        "outputId": "f201010d-d6da-4393-e582-a356c533bd78"
      },
      "execution_count": 107,
      "outputs": [
        {
          "output_type": "execute_result",
          "data": {
            "text/plain": [
              "array([0.20711295, 0.88401574, 0.54826044, 0.3594577 , 0.98121145,\n",
              "       0.44362411, 0.46978331, 0.39939444, 0.10976764, 0.72919859])"
            ]
          },
          "metadata": {},
          "execution_count": 107
        }
      ]
    },
    {
      "cell_type": "code",
      "source": [
        "# -= same as l = l-bite"
      ],
      "metadata": {
        "id": "BLhPBJdeNd6b"
      },
      "execution_count": null,
      "outputs": []
    },
    {
      "cell_type": "code",
      "source": [
        "def bitefun():\n",
        "    l = 1\n",
        "    cnt = 0\n",
        "    while l > 0:\n",
        "        bite = stats.uniform.rvs(0, 1, 1)\n",
        "        l -= bite\n",
        "        cnt += 1\n",
        "    return cnt"
      ],
      "metadata": {
        "id": "PZoJeu-2NsZL"
      },
      "execution_count": 113,
      "outputs": []
    },
    {
      "cell_type": "code",
      "source": [
        "n_obs = 10**5\n",
        "res = np.zeros(n_obs)\n",
        "for i in tqdm(range(n_obs)):\n",
        "    res[i] = bitefun()\n"
      ],
      "metadata": {
        "colab": {
          "base_uri": "https://localhost:8080/",
          "height": 69,
          "referenced_widgets": [
            "8190c4c6e3b24e23b5685f0735d7fb61",
            "957b190e7a8d42aab28b472b390d44ef",
            "fb94cf759c98441f89a11c3ceb88a045",
            "62097d45e6fe4c0483731bc6b39871b3",
            "097f1b8f33ca4bd29d3b01c077677ad2",
            "f10644ec4c134cf381a0348487dd6915",
            "c8fe3393f30a41fd910752f2686ebc02",
            "4a3d94f06cfd468eb6a263416e6e4f91",
            "f9718b2aefdc4f2d81eba829d4a55a10",
            "6e7accc7dfc744f5a465beae027beacb",
            "8a52e659301945b5a98b46ea8b30bfc9"
          ]
        },
        "id": "de9QtNkUN9pQ",
        "outputId": "6da28fff-619b-41f1-d425-c6ec67a208f5"
      },
      "execution_count": 124,
      "outputs": [
        {
          "output_type": "display_data",
          "data": {
            "text/plain": [
              "  0%|          | 0/100000 [00:00<?, ?it/s]"
            ],
            "application/vnd.jupyter.widget-view+json": {
              "version_major": 2,
              "version_minor": 0,
              "model_id": "8190c4c6e3b24e23b5685f0735d7fb61"
            }
          },
          "metadata": {}
        }
      ]
    },
    {
      "cell_type": "code",
      "source": [
        "np.mean(res), np.var(res)"
      ],
      "metadata": {
        "colab": {
          "base_uri": "https://localhost:8080/"
        },
        "id": "OjVO7tuiOYIJ",
        "outputId": "098e04a5-fef1-439d-9eef-58de8b5ed8fb"
      },
      "execution_count": 125,
      "outputs": [
        {
          "output_type": "execute_result",
          "data": {
            "text/plain": [
              "(2.72076, 0.7632450223999999)"
            ]
          },
          "metadata": {},
          "execution_count": 125
        }
      ]
    },
    {
      "cell_type": "code",
      "source": [
        "plt.hist(res, bins=8);"
      ],
      "metadata": {
        "colab": {
          "base_uri": "https://localhost:8080/",
          "height": 450
        },
        "id": "JO8ZLbuGO2x2",
        "outputId": "38f611fb-4eec-4080-fbf7-e1bf38099725"
      },
      "execution_count": 126,
      "outputs": [
        {
          "output_type": "display_data",
          "data": {
            "text/plain": [
              "<Figure size 640x480 with 1 Axes>"
            ],
            "image/png": "[encoded data removed]"
          },
          "metadata": {}
        }
      ]
    },
    {
      "cell_type": "code",
      "source": [
        "np.mean(res==8)"
      ],
      "metadata": {
        "colab": {
          "base_uri": "https://localhost:8080/"
        },
        "id": "GPNyDwrYPPvA",
        "outputId": "854815fb-bf5f-4b40-f520-5c1b94118240"
      },
      "execution_count": 130,
      "outputs": [
        {
          "output_type": "execute_result",
          "data": {
            "text/plain": [
              "0.00019"
            ]
          },
          "metadata": {},
          "execution_count": 130
        }
      ]
    },
    {
      "cell_type": "markdown",
      "source": [
        "### Problem 3 (The Cord)\n",
        "\n",
        "A cord of length 1 meter is randomly cut in two places. What is the probability that at least one of the resulting pieces will be longer than 0.5 meters?\n",
        "\n",
        "\n",
        "\n",
        "\n"
      ],
      "metadata": {
        "id": "4CKpvFIH-ciM"
      }
    },
    {
      "cell_type": "code",
      "source": [],
      "metadata": {
        "id": "jGVOH_o5NtcK"
      },
      "execution_count": 45,
      "outputs": []
    },
    {
      "cell_type": "markdown",
      "source": [
        "## 2. Generating Random Variables in Python"
      ],
      "metadata": {
        "id": "vs9Mo4CT_9Mn"
      }
    },
    {
      "cell_type": "markdown",
      "source": [
        "Sometimes, to solve probability theory problems or to study the properties of statistical algorithms, you need to generate a random sample from some distribution.\n",
        "\n",
        "To generate any random variable in Python, you need to do two things:\n",
        "\n",
        "* Create a generator.\n",
        "\n",
        "Inside the `scipy.stats` package, there are [many different distributions.](https://docs.scipy.org/doc/scipy-0.14.0/reference/stats.html)\n",
        "\n",
        "Among this abundance, you need to find the required distribution and specify its parameters.\n",
        "Let's do this using the example of a **normal distribution**, X ~ N(μ, σ²).\n",
        "The density function of this distribution looks like:\n",
        "\n",
        "$$f(x) = \\frac{1}{\\sigma \\sqrt{2 \\pi}} \\cdot  e^{-\\frac{(x - \\mu)^2}{2 \\sigma^2}}$$\n",
        "\n",
        "The `loc` parameter sets μ, and `scale` sets the standard deviation σ.\n"
      ],
      "metadata": {
        "id": "iUlOO04K-gU5"
      }
    },
    {
      "cell_type": "code",
      "source": [
        "norm_rv = stats.norm(loc=0, scale=1)  # create a generator"
      ],
      "metadata": {
        "id": "h9jOrCAu-hXM"
      },
      "execution_count": 46,
      "outputs": []
    },
    {
      "cell_type": "markdown",
      "source": [
        "Once the generator is ready, you can call different methods on it:\n",
        "\n",
        "* `rvs` will generate a sample from the distribution with the specified `size`.\n",
        "* `cdf` will compute the value of the cumulative distribution function at a given point.\n",
        "* `pdf` will compute the value of the probability density function at a given point.\n",
        "* `ppf` will compute the quantile for a given level.\n",
        "\n",
        "[In the documentation](https://docs.scipy.org/doc/scipy-0.14.0/reference/stats.html) you can find other methods but we will rarely encounter them throughout our course (see the section on statistical functions).\n"
      ],
      "metadata": {
        "id": "_X93N7VS-iBz"
      }
    },
    {
      "cell_type": "code",
      "source": [
        "sample = norm_rv.rvs(1000)  # generate 1000 values\n",
        "sample[:10]"
      ],
      "metadata": {
        "id": "kfOurzeg-jqb",
        "colab": {
          "base_uri": "https://localhost:8080/"
        },
        "outputId": "6770c1dd-3ccc-4c86-80a9-09893d808486"
      },
      "execution_count": 147,
      "outputs": [
        {
          "output_type": "execute_result",
          "data": {
            "text/plain": [
              "array([-0.33037699, -1.18192563,  0.65848814, -1.0188199 , -0.67566179,\n",
              "        0.23859857, -0.60483578,  0.97272825,  1.93125924,  0.01288481])"
            ]
          },
          "metadata": {},
          "execution_count": 147
        }
      ]
    },
    {
      "cell_type": "markdown",
      "source": [
        "## 3. Density and Cumulative Distribution Function\n",
        "\n"
      ],
      "metadata": {
        "id": "h7eN4UNX-kpg"
      }
    },
    {
      "cell_type": "markdown",
      "source": [
        "Now we can experiment a bit with our random variable. For example, we can find the value of the density function at x = 1: f(1).\n",
        "\n"
      ],
      "metadata": {
        "id": "vO5yBwC5-lnj"
      }
    },
    {
      "cell_type": "code",
      "source": [
        "norm_rv.pdf(3)"
      ],
      "metadata": {
        "id": "sNGcBsHx-miO",
        "colab": {
          "base_uri": "https://localhost:8080/"
        },
        "outputId": "0a701962-0339-4923-c875-ca152f0c4436"
      },
      "execution_count": 152,
      "outputs": [
        {
          "output_type": "execute_result",
          "data": {
            "text/plain": [
              "0.0044318484119380075"
            ]
          },
          "metadata": {},
          "execution_count": 152
        }
      ]
    },
    {
      "cell_type": "markdown",
      "source": [
        "We can also plot the density function, f(x).\n",
        "\n"
      ],
      "metadata": {
        "id": "95eAaCmc-oOG"
      }
    },
    {
      "cell_type": "code",
      "source": [
        "x = np.linspace(-3, 3, 100)\n",
        "pdf = norm_rv.pdf(x)"
      ],
      "metadata": {
        "id": "ARigJOpw-o5v"
      },
      "execution_count": 49,
      "outputs": []
    },
    {
      "cell_type": "code",
      "source": [
        "plt.plot(x, pdf)\n",
        "plt.ylabel('$f(x)$')\n",
        "plt.xlabel('$x$')\n",
        "\n",
        "# and mark f(1) on the plot\n",
        "plt.scatter([1,2], [norm_rv.pdf(1), norm_rv.pdf(2)], color=\"blue\");"
      ],
      "metadata": {
        "colab": {
          "base_uri": "https://localhost:8080/",
          "height": 473
        },
        "id": "BL3ePR8f-pot",
        "outputId": "fae06a68-0ec4-4c8a-c81e-3941c8ab2ffe"
      },
      "execution_count": 50,
      "outputs": [
        {
          "output_type": "display_data",
          "data": {
            "text/plain": [
              "<Figure size 640x480 with 1 Axes>"
            ],
            "image/png": "[encoded data removed]"
          },
          "metadata": {}
        }
      ]
    },
    {
      "cell_type": "markdown",
      "source": [
        "Let's now find the value of the cumulative distribution function at x = 1:\n",
        "\n",
        "$$F(1) = P(X \\le 1) = \\int_{-\\infty}^1 f(x)dx$$\n"
      ],
      "metadata": {
        "id": "7i-tzjfN-q0k"
      }
    },
    {
      "cell_type": "code",
      "source": [
        "norm_rv.cdf(1)"
      ],
      "metadata": {
        "id": "Jq5IWhP1-r2s",
        "colab": {
          "base_uri": "https://localhost:8080/"
        },
        "outputId": "a932f596-9040-4ef3-944b-1a126e400dd5"
      },
      "execution_count": 51,
      "outputs": [
        {
          "output_type": "execute_result",
          "data": {
            "text/plain": [
              "0.8413447460685429"
            ]
          },
          "metadata": {},
          "execution_count": 51
        }
      ]
    },
    {
      "cell_type": "markdown",
      "source": [
        " On the density plot, this appears as the area under the curve up to the point $x = 1$,  which is the probability that $X \\le 1$.\n"
      ],
      "metadata": {
        "id": "TQkj9BO5-sr4"
      }
    },
    {
      "cell_type": "code",
      "source": [
        "x = np.linspace(-3, 3, 100)\n",
        "pdf = norm_rv.pdf(x)\n",
        "\n",
        "plt.plot(x, pdf)\n",
        "plt.ylabel('$f(x)$')\n",
        "plt.xlabel('$x$')\n",
        "\n",
        "# Marking f(1) on the plot\n",
        "plt.scatter([1], [norm_rv.pdf(1)], color=\"blue\");\n",
        "\n",
        "# Adding a shaded area to the same plot\n",
        "xq = np.linspace(-3, 1, 100)\n",
        "yq = norm_rv.pdf(xq)\n",
        "plt.fill_between(xq, 0, yq, color='blue', alpha=0.2)\n",
        "\n",
        "plt.axvline(1, color='blue', linestyle=\"--\", lw=2);"
      ],
      "metadata": {
        "colab": {
          "base_uri": "https://localhost:8080/",
          "height": 473
        },
        "id": "U2q0_VnF-trn",
        "outputId": "9fcdcc38-de0e-4c00-ffc1-763352a7fe49"
      },
      "execution_count": 52,
      "outputs": [
        {
          "output_type": "display_data",
          "data": {
            "text/plain": [
              "<Figure size 640x480 with 1 Axes>"
            ],
            "image/png": "[encoded data removed]"
          },
          "metadata": {}
        }
      ]
    },
    {
      "cell_type": "markdown",
      "source": [
        "We can also plot the cumulative distribution function.\n"
      ],
      "metadata": {
        "id": "1wwO_c7f-vBk"
      }
    },
    {
      "cell_type": "code",
      "source": [
        "x = np.linspace(-3, 3, 100)\n",
        "cdf = norm_rv.cdf(x)\n",
        "\n",
        "plt.plot(x, cdf)\n",
        "plt.ylabel('$f(x)$')\n",
        "plt.xlabel('$x$')\n",
        "\n",
        "# Marking F(1) on the plot\n",
        "plt.scatter([1], [norm_rv.cdf(1)], color=\"blue\");"
      ],
      "metadata": {
        "colab": {
          "base_uri": "https://localhost:8080/",
          "height": 473
        },
        "id": "98Id7DmE-vip",
        "outputId": "e76a16c4-5fe4-4f86-e395-a1a322ddb745"
      },
      "execution_count": 53,
      "outputs": [
        {
          "output_type": "display_data",
          "data": {
            "text/plain": [
              "<Figure size 640x480 with 1 Axes>"
            ],
            "image/png": "[encoded data removed]"
          },
          "metadata": {}
        }
      ]
    },
    {
      "cell_type": "markdown",
      "source": [
        "Now let's find another probability:\n",
        "\n",
        "\n",
        "$$ P(1 < X < 3) = \\int_1^3 f(x) dx = F(3) - F(1)$$"
      ],
      "metadata": {
        "id": "HtDrPkBn-xTV"
      }
    },
    {
      "cell_type": "code",
      "source": [
        "norm_rv.cdf(3) - norm_rv.cdf(1)"
      ],
      "metadata": {
        "id": "Nkod_IUz-yWw",
        "colab": {
          "base_uri": "https://localhost:8080/"
        },
        "outputId": "cedb5516-c991-48ac-a224-297b4072d72b"
      },
      "execution_count": 54,
      "outputs": [
        {
          "output_type": "execute_result",
          "data": {
            "text/plain": [
              "0.15730535589982697"
            ]
          },
          "metadata": {},
          "execution_count": 54
        }
      ]
    },
    {
      "cell_type": "markdown",
      "source": [
        "This is the probability of falling within a specific interval, and we'll visualize it on the density plot.\n",
        "\n"
      ],
      "metadata": {
        "id": "GPxvge78-zJN"
      }
    },
    {
      "cell_type": "code",
      "source": [
        "x = np.linspace(-5, 5, 100)\n",
        "pdf = norm_rv.pdf(x)\n",
        "\n",
        "plt.plot(x, pdf)\n",
        "plt.ylabel('$f(x)$')\n",
        "plt.xlabel('$x$')\n",
        "\n",
        "# Marking f(1) on the plot\n",
        "plt.scatter([1, 3], [norm_rv.pdf(1), norm_rv.pdf(3)], color=\"blue\");\n",
        "\n",
        "# Adding a shaded area to the same plot\n",
        "xq = np.linspace(1, 3)\n",
        "yq = norm_rv.pdf(xq)\n",
        "plt.fill_between(xq, 0, yq, color='blue', alpha=0.2)\n",
        "\n",
        "plt.axvline(1, color='blue', linestyle=\"--\", lw=2)\n",
        "plt.axvline(3, color='blue', linestyle=\"--\", lw=2);"
      ],
      "metadata": {
        "colab": {
          "base_uri": "https://localhost:8080/",
          "height": 473
        },
        "id": "Gw_-PS0V-0Dk",
        "outputId": "eb874bc4-0545-4be7-b3c6-ad0051686c94"
      },
      "execution_count": 55,
      "outputs": [
        {
          "output_type": "display_data",
          "data": {
            "text/plain": [
              "<Figure size 640x480 with 1 Axes>"
            ],
            "image/png": "[encoded data removed]"
          },
          "metadata": {}
        }
      ]
    },
    {
      "cell_type": "markdown",
      "source": [
        "For completeness, let's also find a quantile. The quantile at level γ is the number q such that\n",
        "\n",
        "$$P(X \\le q) = \\gamma$$\n",
        "\n",
        "Let's find the 5% quantile and plot it on the density plot:\n",
        "\n"
      ],
      "metadata": {
        "id": "YDETN4pK3usK"
      }
    },
    {
      "cell_type": "code",
      "source": [
        "q = norm_rv.ppf(0.025)\n",
        "q"
      ],
      "metadata": {
        "id": "jQ7ABV9Q3v7b",
        "colab": {
          "base_uri": "https://localhost:8080/"
        },
        "outputId": "d4ab824b-98df-4d47-de2d-ce3b3caff320"
      },
      "execution_count": 56,
      "outputs": [
        {
          "output_type": "execute_result",
          "data": {
            "text/plain": [
              "-1.9599639845400545"
            ]
          },
          "metadata": {},
          "execution_count": 56
        }
      ]
    },
    {
      "cell_type": "code",
      "source": [
        "x = np.linspace(-3, 3, 100)\n",
        "pdf = norm_rv.pdf(x)\n",
        "\n",
        "plt.plot(x, pdf)\n",
        "plt.ylabel('$f(x)$')\n",
        "plt.xlabel('$x$')\n",
        "\n",
        "xq = np.linspace(-3, q)\n",
        "yq = norm_rv.pdf(xq)\n",
        "plt.fill_between(xq, 0, yq, color='blue', alpha=0.2)\n",
        "\n",
        "plt.axvline(q, color='blue', linestyle=\"--\", lw=2)\n",
        "\n",
        "y_max = plt.ylim()[1]\n",
        "plt.text(q + 0.1, 0.8*y_max, round(q,2), color='blue', fontsize=16)"
      ],
      "metadata": {
        "id": "9mYHTrJN3w8h",
        "colab": {
          "base_uri": "https://localhost:8080/",
          "height": 490
        },
        "outputId": "79baec1c-c9c7-48df-f108-8c57227ebb28"
      },
      "execution_count": 57,
      "outputs": [
        {
          "output_type": "execute_result",
          "data": {
            "text/plain": [
              "Text(-1.8599639845400544, 0.3349576888171431, '-1.96')"
            ]
          },
          "metadata": {},
          "execution_count": 57
        },
        {
          "output_type": "display_data",
          "data": {
            "text/plain": [
              "<Figure size 640x480 with 1 Axes>"
            ],
            "image/png": "[encoded data removed]"
          },
          "metadata": {}
        }
      ]
    },
    {
      "cell_type": "markdown",
      "source": [
        "Note that everything we've done so far has been with a theoretical distribution. You can work with any other distribution in a similar way. For example, with an exponential distribution:"
      ],
      "metadata": {
        "id": "0Rqogzzk3yaT"
      }
    },
    {
      "cell_type": "code",
      "source": [
        "exp_rv = stats.expon(scale=5)\n",
        "exp_rv.rvs(5)"
      ],
      "metadata": {
        "colab": {
          "base_uri": "https://localhost:8080/"
        },
        "id": "T6jVOCG33zF7",
        "outputId": "b5b7f2a6-d8e4-486d-fbfa-206aaf68e8b7"
      },
      "execution_count": 58,
      "outputs": [
        {
          "output_type": "execute_result",
          "data": {
            "text/plain": [
              "array([8.34742681, 1.12416251, 2.77050821, 1.53262783, 4.95485611])"
            ]
          },
          "metadata": {},
          "execution_count": 58
        }
      ]
    },
    {
      "cell_type": "markdown",
      "source": [
        "## 4. Empirical Distribution\n",
        "\n",
        "Now let's work with a sample. Usually, we don't know the distribution from which the sample was drawn. We can calculate some characteristics for our random variable.\n"
      ],
      "metadata": {
        "id": "YHhoVHja30US"
      }
    },
    {
      "cell_type": "code",
      "source": [
        "sample"
      ],
      "metadata": {
        "colab": {
          "base_uri": "https://localhost:8080/"
        },
        "id": "J-PzuxlCZF5M",
        "outputId": "0bc688f3-6b00-414e-f2ba-99f5a4457ab6"
      },
      "execution_count": 153,
      "outputs": [
        {
          "output_type": "execute_result",
          "data": {
            "text/plain": [
              "array([-3.30376994e-01, -1.18192563e+00,  6.58488139e-01, -1.01881990e+00,\n",
              "       -6.75661786e-01,  2.38598574e-01, -6.04835778e-01,  9.72728253e-01,\n",
              "        1.93125924e+00,  1.28848073e-02, -5.74680366e-01, -1.03855175e+00,\n",
              "        1.91957353e+00,  6.27516613e-02,  2.45031429e-01, -1.38896687e+00,\n",
              "        1.70149475e-01,  1.91059935e-02,  2.30754641e+00, -6.15607364e-01,\n",
              "       -1.04122555e+00,  8.26190151e-01, -1.79480461e-01, -4.88852820e-01,\n",
              "        1.74179161e-01,  8.78919519e-01,  1.50256204e+00,  2.95690345e-01,\n",
              "        2.68126231e+00, -7.65609936e-01, -3.28590101e-01,  6.42588394e-01,\n",
              "       -9.38974631e-01,  5.37459706e-01,  5.17104185e-01,  4.88332573e-01,\n",
              "        6.11767600e-01, -1.67291975e-01,  1.41292685e+00,  4.68013001e-01,\n",
              "        1.14645386e+00, -1.58864939e+00,  1.98755200e+00, -3.89972170e-01,\n",
              "       -6.48522858e-01,  1.17164228e-01, -2.03537252e+00,  5.17618896e-02,\n",
              "       -8.85657226e-01, -2.10427316e+00,  4.00576172e-01,  3.47884133e-02,\n",
              "       -1.61291167e+00,  6.93863114e-02, -3.80096234e-01,  1.55801407e+00,\n",
              "        1.26495497e+00,  1.53335777e-01, -1.22685499e+00,  2.52245026e+00,\n",
              "        1.54698693e+00,  5.60986997e-01, -7.92861408e-02,  1.87095342e+00,\n",
              "        2.10768219e-01,  1.24208016e-02,  1.73695302e-01, -4.30565485e-01,\n",
              "       -1.51330309e-01,  1.24642977e+00,  1.42216291e+00,  4.61395267e-01,\n",
              "       -3.25976220e-01, -6.39910578e-02, -1.35182892e-01,  1.45758569e+00,\n",
              "       -4.77264247e-01, -4.74518250e-01, -2.13241180e+00, -6.71981602e-01,\n",
              "        3.26385098e-01, -2.75811433e-01, -1.70157356e-02,  8.64666711e-01,\n",
              "       -1.02009385e+00, -1.76451317e-01,  3.93170549e-01, -2.74786635e-01,\n",
              "       -5.88188447e-01,  1.86095737e+00,  1.23408807e-01,  2.12001964e-01,\n",
              "       -5.57538967e-01, -3.84033109e-01, -1.16974943e+00, -1.41609827e+00,\n",
              "       -3.91143948e-01,  1.88856900e-01,  1.39845031e+00, -2.79868485e-02,\n",
              "       -1.37709257e+00,  2.24395006e-01,  1.18858347e+00,  1.10937631e+00,\n",
              "        2.85841586e-01,  1.41881038e+00, -1.34331908e+00,  2.15062298e-01,\n",
              "       -6.23932617e-01,  4.33821965e-02,  8.27621868e-01,  2.66304202e-01,\n",
              "        1.26258663e+00, -5.68789015e-01, -3.88237825e-01,  5.73997906e-03,\n",
              "       -8.79459488e-01,  7.05923078e-01,  1.38971808e-01,  1.22164052e+00,\n",
              "        8.85191463e-01, -1.04294988e+00, -5.29932310e-01, -1.04300594e+00,\n",
              "       -4.54520721e-01,  2.07726317e+00,  1.07966701e+00, -2.26157471e-01,\n",
              "        1.38525600e-02, -1.77998953e+00,  5.45872023e-01,  1.67388428e-01,\n",
              "        9.90061943e-01,  4.62038553e-01, -8.17695514e-01, -6.53286878e-01,\n",
              "        5.17141077e-01, -8.27277091e-01,  4.79640349e-01,  8.37712000e-01,\n",
              "        4.93148797e-01, -2.03687950e-01, -1.26597918e-01, -1.67537285e+00,\n",
              "        5.71796555e-02, -6.45696813e-01,  2.09915364e-02, -4.66805966e-01,\n",
              "        1.31942201e+00,  1.75376850e+00,  5.08500948e-01,  9.10073774e-01,\n",
              "        1.53662918e-01,  1.87649074e-01,  1.97418003e+00,  1.75470113e+00,\n",
              "       -8.00109629e-01, -4.12478067e-03, -5.19618465e-01, -2.06987094e+00,\n",
              "        2.77371389e-01,  5.67799329e-01, -1.45431937e+00,  7.18166195e-01,\n",
              "       -1.90118621e+00, -9.52313666e-03, -1.38764768e+00, -1.06882922e+00,\n",
              "        3.09530193e-01,  2.47808278e-01,  5.27470710e-01, -2.09152737e+00,\n",
              "        1.59795727e+00,  8.13834036e-01,  1.13580771e+00, -9.30307529e-01,\n",
              "        1.62464924e+00, -1.25066822e+00, -5.51315615e-01,  2.05277825e-01,\n",
              "        1.87586146e-01,  1.33395659e+00, -1.30956052e+00,  6.39487746e-01,\n",
              "       -7.20071436e-01, -3.63599642e-01,  1.79049219e-02, -9.85631589e-02,\n",
              "        4.37204467e-01,  3.59812262e-03, -6.96774652e-01,  1.74651272e-02,\n",
              "       -2.55170126e-01,  1.46210167e-01,  8.64853384e-01, -1.87183829e-01,\n",
              "       -6.58865099e-01, -4.88583773e-01, -7.46571709e-01,  2.07568363e+00,\n",
              "       -2.61867508e-01,  2.69214908e-01,  1.22921528e+00, -1.85513222e-01,\n",
              "        7.81023543e-01, -1.65282262e+00, -7.31124177e-01,  1.45835471e+00,\n",
              "        6.83790059e-01, -3.09320821e-01,  1.34221709e+00,  4.02506739e-01,\n",
              "       -5.01153160e-01,  1.15598545e+00, -1.55816569e+00, -1.36797330e+00,\n",
              "       -1.60239752e-01, -8.35207242e-01,  1.49143165e+00,  1.04147585e+00,\n",
              "       -1.30332955e-01,  1.60740453e+00,  5.18073233e-01, -1.97936828e+00,\n",
              "        1.14449025e+00, -5.27717334e-01,  4.54994248e-01, -7.85704261e-01,\n",
              "        4.79930425e-01,  9.47883696e-02, -1.50271024e+00, -1.42517271e+00,\n",
              "       -5.00047897e-01, -7.40461815e-01, -7.71497965e-01,  4.03718330e-01,\n",
              "        3.33773560e-01,  8.33801471e-01, -5.70427640e-01, -4.93797570e-01,\n",
              "       -9.11770852e-02, -1.07299373e+00, -1.06264715e+00,  3.19246223e-01,\n",
              "        1.44537838e+00,  6.32033978e-01,  6.15927038e-01, -1.24109707e+00,\n",
              "        1.33742186e+00, -1.23696593e+00, -1.56617742e+00, -1.61182872e+00,\n",
              "        8.00107141e-02, -7.38181462e-01, -7.14532376e-01,  2.67054583e+00,\n",
              "       -2.33152451e-01, -1.58952471e+00, -3.56099882e-01, -6.30105318e-02,\n",
              "        1.41610337e-01, -7.11904323e-01, -9.75919827e-01,  5.73285739e-03,\n",
              "        1.17655930e-01,  1.22016184e+00,  2.74423493e-01,  1.86788054e-01,\n",
              "        9.31015993e-01, -1.73700457e-01,  2.61484003e-01, -1.13573064e-01,\n",
              "        5.17480468e-01,  7.36620835e-01,  7.80291703e-01,  1.69597546e+00,\n",
              "        2.00205608e-01, -1.65082092e+00,  6.18499158e-01, -1.37435970e+00,\n",
              "       -1.39128375e+00, -5.05207968e-01,  2.20746668e+00, -3.85145513e-01,\n",
              "       -5.18046165e-01,  3.88460530e-01, -5.70700965e-01,  4.50867407e-01,\n",
              "       -1.47876525e+00, -1.73955511e+00, -9.95865403e-01,  1.27779962e+00,\n",
              "       -4.31646582e-01, -3.22766571e-01,  1.41759903e-02, -1.01883816e-02,\n",
              "        2.62175342e+00, -7.06911990e-01,  1.71121025e+00,  1.25653412e-01,\n",
              "       -4.98538384e-01,  3.13059041e-01, -2.09250876e-01, -3.00106225e-01,\n",
              "       -4.89861595e-01, -3.50921876e-01, -1.17179241e-01,  1.41335094e+00,\n",
              "       -9.57667127e-01, -1.13041239e+00,  9.81476213e-01,  4.45837896e-01,\n",
              "       -6.65965362e-01, -1.14680435e+00,  9.05131675e-01, -3.72386612e-01,\n",
              "        1.10442747e+00, -7.90778942e-01,  1.84638172e-01, -7.74279625e-01,\n",
              "       -1.80372980e-01, -1.39639993e+00, -2.63460420e-01,  6.20015546e-01,\n",
              "        9.90940350e-01,  4.65421001e-01,  1.83471737e+00, -6.76187786e-01,\n",
              "       -1.50223692e+00,  8.60517224e-01, -1.06466631e+00, -6.23128538e-01,\n",
              "       -1.27455164e-01, -8.48843790e-02,  2.97144321e-01,  7.55153052e-01,\n",
              "       -1.03291960e+00,  4.72816043e-01, -9.22259255e-01, -1.63951623e+00,\n",
              "       -7.95381122e-02,  3.20748559e-02,  1.61833116e-01,  1.07683876e+00,\n",
              "       -6.99751982e-01,  1.45557497e+00, -1.27151410e+00,  3.04412881e-01,\n",
              "        1.49513615e+00,  3.75590269e-01, -1.98054850e+00,  2.12730531e+00,\n",
              "        1.89965091e-01,  1.40498264e+00,  7.62720882e-01,  4.09442245e-02,\n",
              "        1.03396012e+00, -2.91067331e-01, -5.33094315e-01, -1.14188655e+00,\n",
              "       -5.30776103e-02, -1.51196885e+00, -1.82826186e-01,  3.21130793e-01,\n",
              "       -3.30699841e-01,  1.52764652e-01,  5.18499319e-01, -5.97692615e-01,\n",
              "        1.99950624e+00,  2.51898599e+00,  8.01037850e-01, -5.51563417e-03,\n",
              "        2.69274964e-01, -1.74345814e+00, -1.07658354e+00,  2.81051277e+00,\n",
              "        7.81914589e-01, -1.60513761e+00,  1.23721290e+00,  4.32860086e-01,\n",
              "       -1.08716110e-01,  8.07796190e-01, -1.56965513e+00,  1.95787115e+00,\n",
              "       -4.17530868e-01, -8.09082600e-01, -1.24052601e-01,  4.98384860e-01,\n",
              "       -5.05864959e-01, -1.64192132e-02, -4.89134375e-01, -8.63595141e-02,\n",
              "       -4.20623055e-01,  1.37634321e+00,  2.49685790e-01, -1.28102061e-02,\n",
              "        1.06803008e-01, -5.28200670e-01,  1.38742365e+00,  7.07862869e-01,\n",
              "        7.09593118e-01,  3.02733603e-01,  1.61193059e-01,  1.38563842e+00,\n",
              "       -1.99077536e-01, -6.91442459e-01,  2.20434456e+00,  1.49659604e+00,\n",
              "       -1.16800338e+00, -4.60379041e-01,  4.40574561e-01, -2.50603720e-01,\n",
              "       -1.23725166e+00, -1.51261505e+00,  1.60788757e+00, -9.15344115e-01,\n",
              "        1.24795566e+00, -1.24563373e-01,  1.17646862e+00, -3.16541671e-01,\n",
              "        1.45360731e-01, -1.10568165e+00, -4.46327542e-01, -6.15954922e-01,\n",
              "       -4.32164832e-01,  1.14871490e+00, -4.11132368e-02,  1.35724360e+00,\n",
              "        1.29904273e-01, -7.36520087e-01,  1.10349930e+00,  2.63766092e-01,\n",
              "        1.38168393e+00, -2.70860121e-01,  1.02376017e+00,  9.85284697e-03,\n",
              "        1.01590817e+00,  2.37571985e-03, -2.23645743e-02, -7.33217639e-01,\n",
              "        3.57118800e+00,  5.46107811e-01,  4.33077445e-01, -4.27412456e-01,\n",
              "       -6.17024480e-01,  1.01516707e+00, -1.62636502e+00, -1.04457521e+00,\n",
              "        4.02659290e-01, -6.23664624e-02, -1.57563310e-01,  6.42399791e-01,\n",
              "        2.23890132e-01,  4.78925420e-01,  1.37814069e+00,  1.88412038e-01,\n",
              "        6.36094213e-01,  2.40606260e+00,  1.30086571e+00,  1.03191359e+00,\n",
              "        6.17009475e-01,  2.34656036e+00, -1.13169433e+00,  1.02158180e+00,\n",
              "       -5.73706503e-02,  7.00360753e-04, -7.08446936e-01, -1.22454134e+00,\n",
              "       -1.49330159e+00, -9.38476576e-01, -2.94799726e+00,  6.72214730e-01,\n",
              "       -6.20430455e-01, -4.05258273e-01,  4.93525543e-01, -2.00774887e-01,\n",
              "       -2.54433621e-01,  8.73336485e-01, -2.05840836e-03,  1.20531216e+00,\n",
              "        1.25025674e+00,  2.41745418e-01,  9.40430178e-01,  2.56290257e-01,\n",
              "       -3.09963553e-01,  5.47384397e-01,  4.31339369e-01,  9.85807447e-01,\n",
              "       -6.37808264e-02,  8.96564140e-03,  1.66195802e+00,  6.63240429e-01,\n",
              "       -2.94542523e-01, -8.89273148e-01,  4.85822332e-01, -1.46239368e+00,\n",
              "       -1.05440844e-01,  1.80936479e+00,  3.31571458e-01,  8.83256575e-01,\n",
              "       -3.93131847e-01,  1.30694326e+00, -2.14999699e+00,  9.35164256e-01,\n",
              "        8.55614655e-01,  6.10491037e-01,  1.50982179e-01, -3.21864923e-01,\n",
              "        3.90464045e-01,  4.97838091e-01,  5.05854842e-01,  3.37299685e-01,\n",
              "       -1.50595082e-01,  7.19321103e-01, -9.53675447e-01,  2.75753246e-01,\n",
              "       -6.01727615e-01,  3.82569515e-01,  1.49014739e-01,  6.51805342e-01,\n",
              "       -1.35349878e+00, -3.20892761e-01, -6.26372764e-01, -3.02639642e-01,\n",
              "       -1.70609683e-02,  2.10193598e+00,  1.75879126e+00,  2.19682168e+00,\n",
              "        1.99990834e+00, -1.10218082e+00, -6.11736203e-02,  8.36281926e-01,\n",
              "       -1.97999777e-01,  9.80548710e-02,  1.22873090e+00, -1.81215135e-01,\n",
              "       -1.33120959e+00, -6.83193999e-01,  4.82888203e-01, -1.06888901e-01,\n",
              "       -1.71439085e+00, -3.57158871e-01, -4.68174969e-02, -6.01913083e-01,\n",
              "        9.08935216e-01, -1.69266158e-02, -7.72811043e-01,  1.05119225e+00,\n",
              "        2.09747418e-01,  1.53433034e+00,  1.05881191e+00, -5.62454658e-01,\n",
              "        2.02928820e+00, -9.63431152e-02,  1.38829791e+00,  8.20590467e-01,\n",
              "        5.92518623e-01,  2.75531223e-01,  6.55947489e-01, -3.65227946e-01,\n",
              "        1.75779987e-01,  1.48196990e+00, -1.36594735e+00, -3.77865716e-02,\n",
              "        4.47744457e-01, -1.67844730e-01, -1.81138809e-01, -2.31282980e-01,\n",
              "        5.79505359e-01,  2.33771964e-01, -1.18345612e+00,  4.01612563e-01,\n",
              "        7.67367509e-01, -1.18788125e+00,  6.63500125e-01, -1.32849256e+00,\n",
              "       -8.29808506e-01, -4.33962136e-01, -1.63805550e-01,  5.37581883e-01,\n",
              "        2.58451441e-01,  2.56814821e+00,  8.81963569e-01,  6.20459444e-01,\n",
              "        3.17988640e-02,  1.79597243e+00, -1.27088379e+00, -8.28261759e-01,\n",
              "        7.72665521e-01, -2.71248907e+00, -2.64943098e-03,  6.91628244e-01,\n",
              "        1.16378786e+00,  7.79895627e-01, -6.17316206e-01,  6.48599066e-02,\n",
              "       -4.10435651e-01,  1.54541813e+00, -2.55898954e-01,  3.69053258e-01,\n",
              "        9.50195809e-01, -3.73426589e-01, -4.42796437e-01,  1.88096715e-01,\n",
              "        9.76973360e-01, -1.08199295e-01, -6.45310985e-01, -7.96593580e-01,\n",
              "        4.19725953e-01,  2.08765668e-01,  2.15305835e-01,  8.56518525e-01,\n",
              "       -1.84762377e+00, -3.80927194e-01, -9.16639562e-01, -1.11430289e-01,\n",
              "        1.31759752e+00,  1.27529824e+00,  1.01218294e+00,  8.49025435e-01,\n",
              "       -1.48616818e+00, -2.77629456e-01,  3.71487400e-01,  1.02648441e+00,\n",
              "       -4.82293166e-01, -2.91649559e-01,  3.47659351e-02, -1.62836871e-01,\n",
              "        2.15402293e-01, -1.50619639e+00, -1.04995192e+00, -2.66397032e-01,\n",
              "       -5.43435771e-01,  1.10059222e+00, -1.11673393e+00,  4.73295699e-01,\n",
              "       -6.21391542e-01,  6.42830152e-01,  7.61252606e-01, -1.73745801e-01,\n",
              "        1.02303756e+00,  2.11438352e+00, -9.52304773e-01,  1.09028414e+00,\n",
              "        1.08205777e+00,  1.03937061e+00,  5.31854980e-01,  9.04136691e-01,\n",
              "        1.02162148e+00, -5.73834492e-01,  6.77540234e-01, -7.26539409e-02,\n",
              "        1.74654109e+00,  7.23825740e-01,  7.72425092e-01,  1.32411477e+00,\n",
              "       -5.17653725e-01, -7.24976791e-01, -8.92659217e-02,  6.67720550e-01,\n",
              "       -6.59286382e-01,  1.72032526e+00, -1.20112075e+00,  8.81861577e-01,\n",
              "       -2.40916080e-01,  1.03509404e+00, -3.53011706e-01,  6.23126917e-02,\n",
              "       -3.21132321e-01, -8.81168254e-02,  1.78453846e+00,  6.07660685e-01,\n",
              "       -3.46902923e+00,  1.32846817e-01,  9.45572503e-02, -8.55940303e-01,\n",
              "        8.64571917e-01,  2.06216312e+00,  3.51890141e-02,  1.25501723e+00,\n",
              "       -1.38653513e+00, -7.08228705e-01,  3.03215449e-01,  8.66446262e-01,\n",
              "       -1.00531386e-01,  4.30341837e-01,  1.39027206e+00,  1.12268203e+00,\n",
              "        9.99668987e-01, -1.01536267e+00, -1.79637530e-01, -5.92904439e-01,\n",
              "        1.05260683e+00,  2.00648474e-01,  1.58853320e+00, -8.58241194e-01,\n",
              "        9.03155289e-01, -3.09508975e-01, -8.91755727e-01, -1.15526987e+00,\n",
              "        7.94327679e-01,  5.36950105e-01,  7.81368320e-01,  6.74956657e-01,\n",
              "       -3.83631905e-01, -5.60846531e-01,  6.67804754e-01,  3.35253167e-01,\n",
              "        2.46057781e-01,  3.40748060e-01,  3.31233402e-01, -1.29052829e+00,\n",
              "        1.83570228e-01,  9.23989085e-01,  9.43902647e-01,  3.37905126e-01,\n",
              "       -1.01030419e+00, -7.47773965e-01, -2.25979394e-01, -4.45821004e-01,\n",
              "       -5.18878188e-01,  1.26510878e-01,  1.73269406e+00, -5.97756525e-01,\n",
              "        2.48696891e-01, -1.30884855e-01,  6.94951703e-01, -2.30337437e+00,\n",
              "        1.18467636e+00,  1.20180711e+00,  3.36738482e-01,  1.00046365e+00,\n",
              "        1.29144103e-01, -1.42971218e+00,  3.46138874e-01,  4.17706048e-02,\n",
              "        9.20712071e-01, -1.32506700e+00, -1.92318666e+00, -4.44058026e-01,\n",
              "       -1.33934343e+00,  9.41077151e-01, -2.00242607e+00,  1.48127639e-02,\n",
              "       -8.00284087e-01,  1.06190579e-01,  4.77346481e-02, -1.38474384e+00,\n",
              "        6.23301648e-01, -7.36680843e-01, -1.10921516e+00,  8.45888678e-01,\n",
              "        8.07260220e-01, -1.18855828e+00,  9.11365102e-02, -1.38954211e+00,\n",
              "       -2.17977499e-01, -9.23326948e-01, -1.46535910e+00, -1.16867962e+00,\n",
              "       -8.01822981e-01, -1.62929022e-01, -9.02508227e-01, -3.26684508e-01,\n",
              "        1.11772385e+00, -7.60964519e-01,  9.72987563e-01, -1.24132109e+00,\n",
              "       -2.10299518e+00, -1.11010139e+00,  1.06276275e+00, -1.07205751e+00,\n",
              "       -5.75951540e-01, -7.41716411e-02,  2.39462112e+00,  1.82298887e-01,\n",
              "        4.84082249e-01, -1.01541484e+00,  2.56781237e+00, -4.87306465e-01,\n",
              "        3.00524211e-01,  2.08309022e+00, -1.81510677e+00,  6.17172102e-01,\n",
              "       -7.82478176e-01,  2.74501718e+00, -2.78044970e-01,  1.05122506e+00,\n",
              "        2.69631333e-01,  4.65148515e-01, -1.26423042e+00,  5.73860171e-01,\n",
              "       -1.46150556e-02, -2.07800303e+00, -5.35275211e-01,  1.75906478e+00,\n",
              "       -8.81839810e-01,  3.94772498e-01,  1.97772210e+00, -8.87601151e-01,\n",
              "        1.29960565e-01, -1.65784932e-01, -1.07555790e+00,  5.66777541e-01,\n",
              "        4.02428978e-01, -6.29601352e-01, -5.40828583e-01, -2.16266275e-01,\n",
              "       -1.49911807e+00,  9.81227087e-01,  1.01781393e-01, -5.62856668e-01,\n",
              "       -6.80025985e-01,  5.34785683e-01, -1.14468450e+00, -4.74845438e-01,\n",
              "       -1.76028316e-01, -1.16606654e+00, -1.60346979e+00, -1.43928587e-01,\n",
              "       -8.01380340e-01, -1.62697809e+00,  6.93616252e-01,  1.31253000e+00,\n",
              "        9.51766909e-02, -3.68825766e-01,  1.63831292e-01,  7.99051015e-01,\n",
              "        7.75709428e-01,  5.85920158e-01,  1.69245869e+00, -1.64683504e+00,\n",
              "        2.20829185e-01, -7.98861285e-01, -7.57111207e-01, -3.44240657e-01,\n",
              "       -6.14969310e-01, -3.10220987e-01,  1.18968810e+00,  2.47856465e+00,\n",
              "       -1.40145567e+00,  1.42051691e+00, -4.69867804e-01,  5.69368584e-01,\n",
              "       -1.42704207e-01,  1.65380911e+00, -6.25417785e-01, -3.62129545e-01,\n",
              "       -8.89721843e-01, -3.25899317e-01, -5.63308317e-02, -8.83383245e-01,\n",
              "       -2.75851473e-01,  1.46710257e+00, -1.38693121e+00,  6.17952797e-01,\n",
              "       -2.19227625e+00, -1.55023953e+00,  1.38376662e+00, -4.27147093e-02,\n",
              "        7.02841972e-01,  8.94069054e-01, -5.20876351e-01, -2.79247100e-01,\n",
              "        4.00153341e-01,  2.96068275e-02, -3.75787042e-01,  5.06344092e-02,\n",
              "       -1.67051588e+00,  1.11999056e+00, -9.17521092e-01, -1.53679269e+00,\n",
              "       -4.21208960e-01,  1.82005717e+00,  8.99889305e-01, -1.11412400e+00,\n",
              "        1.30436144e+00,  7.00144573e-01,  7.31226558e-01, -9.87954579e-01,\n",
              "        1.70208891e+00,  8.87072304e-01, -1.34935453e+00, -1.58698012e+00,\n",
              "       -1.04919751e+00, -9.46770521e-01,  7.02995740e-01,  2.38117407e-01,\n",
              "        2.19230903e+00, -1.84703364e-01,  7.87999799e-01,  7.37306252e-01,\n",
              "       -1.05019028e+00, -5.68450620e-01,  1.19741850e+00, -6.67270774e-01,\n",
              "       -3.06124597e-01, -4.15243470e-01, -2.04428966e-01,  7.40525885e-02,\n",
              "       -5.61270924e-01,  2.82177203e-01, -1.41865911e+00, -9.03944028e-01,\n",
              "       -9.34400677e-01,  9.97193107e-01, -4.00338207e-01,  1.37054491e+00,\n",
              "        3.11982437e-01,  4.36897041e-02, -9.02754168e-01,  6.77457243e-01,\n",
              "       -3.20298099e-01,  8.15598800e-01, -3.88333235e-01,  1.44263623e-01,\n",
              "       -3.95264316e-01,  1.51578631e+00,  2.32084218e-01,  8.30648947e-01,\n",
              "        3.36793371e-01, -8.29116398e-01, -4.01193832e-01, -3.96412668e-01,\n",
              "       -8.49379935e-01,  1.48848994e+00,  6.88970433e-01, -1.38909230e+00,\n",
              "        3.37314154e-01, -6.92159526e-01,  1.97237771e-01,  6.07591202e-01,\n",
              "        2.51016987e+00, -1.53875389e-01,  3.82182838e-01,  2.95528842e-01,\n",
              "        1.47456407e+00, -2.52769682e-01,  4.88287269e-01, -1.28582753e-01,\n",
              "        9.17513131e-02,  2.33721351e-01,  1.28951670e+00, -4.12411805e-01,\n",
              "        9.80685345e-01,  5.42632730e-01, -8.08950172e-01, -1.67077473e+00,\n",
              "       -6.82218335e-01, -1.43820795e+00, -2.15971927e+00,  2.14042048e+00,\n",
              "        1.66690008e-01, -4.59857570e-01, -1.63331675e-01, -3.68664022e-01,\n",
              "        1.27251329e+00, -2.08740786e-02, -1.36140537e+00, -7.92056001e-01,\n",
              "       -9.88539445e-01, -2.22556083e-01,  1.53021834e-01, -4.90088722e-01,\n",
              "       -5.56767157e-01,  5.60245134e-01, -2.28280715e-01,  1.67408864e-01,\n",
              "        1.28738965e+00,  4.48740289e-01,  1.30250529e-01, -1.06456743e+00,\n",
              "       -1.88998672e-01, -1.23663119e+00,  2.27902771e-02, -6.65203403e-01,\n",
              "        1.38659025e+00, -4.65747700e-01, -1.17874165e+00,  4.79970010e-01,\n",
              "       -5.62675747e-02, -1.43093201e+00, -1.36672445e+00,  9.92745347e-01,\n",
              "       -1.44991658e+00, -2.37077310e-01,  1.49946750e+00,  4.22173686e-01,\n",
              "        7.17884895e-01, -6.76685811e-01,  1.18929776e+00, -7.79616546e-01,\n",
              "        3.22031217e-03, -4.42836878e-01, -1.32538580e+00, -3.56192638e-01,\n",
              "        1.64953922e-01,  4.26061713e-01, -1.51606241e+00, -8.11884967e-01])"
            ]
          },
          "metadata": {},
          "execution_count": 153
        }
      ]
    },
    {
      "cell_type": "code",
      "source": [
        "sample[:10]"
      ],
      "metadata": {
        "id": "o7yMobpYOGzu",
        "colab": {
          "base_uri": "https://localhost:8080/"
        },
        "outputId": "39cd7657-816a-4715-dbd4-e4219475cbc6"
      },
      "execution_count": 154,
      "outputs": [
        {
          "output_type": "execute_result",
          "data": {
            "text/plain": [
              "array([-0.33037699, -1.18192563,  0.65848814, -1.0188199 , -0.67566179,\n",
              "        0.23859857, -0.60483578,  0.97272825,  1.93125924,  0.01288481])"
            ]
          },
          "metadata": {},
          "execution_count": 154
        }
      ]
    },
    {
      "cell_type": "markdown",
      "source": [
        "Let's create a histogram. A histogram is an empirical estimate of the distribution's density.\n"
      ],
      "metadata": {
        "id": "YE5z_mL-35Eo"
      }
    },
    {
      "cell_type": "code",
      "source": [
        "plt.hist(sample, bins=50);"
      ],
      "metadata": {
        "id": "k37RBi2SOIi6",
        "colab": {
          "base_uri": "https://localhost:8080/",
          "height": 450
        },
        "outputId": "1a64b5df-e10c-438f-92b0-2dbe95297b01"
      },
      "execution_count": 156,
      "outputs": [
        {
          "output_type": "display_data",
          "data": {
            "text/plain": [
              "<Figure size 640x480 with 1 Axes>"
            ],
            "image/png": "[encoded data removed]"
          },
          "metadata": {}
        }
      ]
    },
    {
      "cell_type": "markdown",
      "source": [
        "Let's plot the histogram and the density function on the same plot."
      ],
      "metadata": {
        "id": "3VW4dg_R37Nm"
      }
    },
    {
      "cell_type": "code",
      "source": [
        "x = np.linspace(-3, 3, 100)\n",
        "pdf = norm_rv.pdf(x)\n",
        "\n",
        "# pdf\n",
        "plt.plot(x, pdf, lw=3)\n",
        "\n",
        "# histogram, with density normalized\n",
        "plt.hist(sample, bins=30, density=True);\n",
        "\n",
        "plt.ylabel('$f(x)$')\n",
        "plt.xlabel('$x$');"
      ],
      "metadata": {
        "id": "A2OBK2L2OMzo",
        "colab": {
          "base_uri": "https://localhost:8080/",
          "height": 473
        },
        "outputId": "8a28fbcb-cd1d-4038-849e-1c0c74ef24e4"
      },
      "execution_count": 61,
      "outputs": [
        {
          "output_type": "display_data",
          "data": {
            "text/plain": [
              "<Figure size 640x480 with 1 Axes>"
            ],
            "image/png": "[encoded data removed]"
          },
          "metadata": {}
        }
      ]
    },
    {
      "cell_type": "markdown",
      "source": [
        "We can also construct the empirical cumulative distribution function (ECDF).\n"
      ],
      "metadata": {
        "id": "hP04oJP7388_"
      }
    },
    {
      "cell_type": "code",
      "source": [
        "# For building the ECDF, we'll use the statsmodels library.\n",
        "from statsmodels.distributions.empirical_distribution import ECDF\n",
        "\n",
        "ecdf = ECDF(sample)   # Build the empirical CDF from the sample\n",
        "\n",
        "plt.step(ecdf.x, ecdf.y)\n",
        "plt.ylabel('$F(x)$', fontsize=20)\n",
        "plt.xlabel('$x$', fontsize=20);"
      ],
      "metadata": {
        "id": "X8DH4Ejn39qc",
        "colab": {
          "base_uri": "https://localhost:8080/",
          "height": 483
        },
        "outputId": "0cbe8fab-9b5e-4fa7-9e4f-754311ca239e"
      },
      "execution_count": 62,
      "outputs": [
        {
          "output_type": "display_data",
          "data": {
            "text/plain": [
              "<Figure size 640x480 with 1 Axes>"
            ],
            "image/png": "[encoded data removed]"
          },
          "metadata": {}
        }
      ]
    },
    {
      "cell_type": "markdown",
      "source": [
        "We can plot it on the same graph as the theoretical CDF:\n"
      ],
      "metadata": {
        "id": "lOALBho43-dS"
      }
    },
    {
      "cell_type": "code",
      "source": [
        "x = np.linspace(-3, 3, 100)\n",
        "\n",
        "# Theoretical CDF\n",
        "cdf = norm_rv.cdf(x)\n",
        "plt.plot(x, cdf, label='Theoretical CDF')\n",
        "\n",
        "# Empirical CDF\n",
        "ecdf = ECDF(sample)\n",
        "plt.step(ecdf.x, ecdf.y, label='Empirical CDF')\n",
        "\n",
        "plt.ylabel('$F(x)$')\n",
        "plt.xlabel('$x$')\n",
        "plt.legend(loc='upper left');"
      ],
      "metadata": {
        "id": "uiRZ8jlk3-_u",
        "colab": {
          "base_uri": "https://localhost:8080/",
          "height": 473
        },
        "outputId": "534c7277-e17d-41c0-8613-014b12e73add"
      },
      "execution_count": 63,
      "outputs": [
        {
          "output_type": "display_data",
          "data": {
            "text/plain": [
              "<Figure size 640x480 with 1 Axes>"
            ],
            "image/png": "[encoded data removed]"
          },
          "metadata": {}
        }
      ]
    },
    {
      "cell_type": "markdown",
      "source": [
        "## 5. Generating Samples\n",
        "\n",
        "With similarly simple manipulations, you can simulate various events. For example, you can generate a sample without replacement from the vector `1:10` of size `5`. All elements will be selected with equal probability.\n",
        "\n",
        "\n",
        "We will do this using [np.random](https://docs.scipy.org/doc/numpy-1.15.0/reference/routines.random.html). Numpy has implemented the simplest generators, and they are usually quite convenient to use.\n"
      ],
      "metadata": {
        "id": "V7Ae2riP4ALo"
      }
    },
    {
      "cell_type": "code",
      "source": [
        "np.arange(1,11)"
      ],
      "metadata": {
        "colab": {
          "base_uri": "https://localhost:8080/"
        },
        "id": "10F4oDcT4BH1",
        "outputId": "3ec412c4-f009-47a3-f3fc-636520668c9d"
      },
      "execution_count": 64,
      "outputs": [
        {
          "output_type": "execute_result",
          "data": {
            "text/plain": [
              "array([ 1,  2,  3,  4,  5,  6,  7,  8,  9, 10])"
            ]
          },
          "metadata": {},
          "execution_count": 64
        }
      ]
    },
    {
      "cell_type": "code",
      "source": [
        "np.random.choice(np.arange(1,11), size=5, replace=False)"
      ],
      "metadata": {
        "colab": {
          "base_uri": "https://localhost:8080/"
        },
        "id": "O0-UCVgB4Btf",
        "outputId": "a3d28cf8-262c-4baa-a678-fcfcb99ff209"
      },
      "execution_count": 65,
      "outputs": [
        {
          "output_type": "execute_result",
          "data": {
            "text/plain": [
              "array([9, 1, 6, 3, 7])"
            ]
          },
          "metadata": {},
          "execution_count": 65
        }
      ]
    },
    {
      "cell_type": "code",
      "source": [
        "np.random.choice(np.arange(1,11),\n",
        "                 size=5,\n",
        "                replace=True) # with replacement"
      ],
      "metadata": {
        "colab": {
          "base_uri": "https://localhost:8080/"
        },
        "id": "3cOjAZz04DV8",
        "outputId": "9415e283-e008-4744-ec6b-5530ff9bfed4"
      },
      "execution_count": 66,
      "outputs": [
        {
          "output_type": "execute_result",
          "data": {
            "text/plain": [
              "array([6, 3, 7, 2, 6])"
            ]
          },
          "metadata": {},
          "execution_count": 66
        }
      ]
    },
    {
      "cell_type": "markdown",
      "source": [
        "You can also set the probabilities of events yourself. Let's, for example, set up a fishing simulation!"
      ],
      "metadata": {
        "id": "BFYyVwPw4EPi"
      }
    },
    {
      "cell_type": "code",
      "source": [
        "np.random.choice(['crucian carp', 'roach', 'pike'],\n",
        "                 size=10,\n",
        "                 p=[0.5, 0.2, 0.3])"
      ],
      "metadata": {
        "colab": {
          "base_uri": "https://localhost:8080/"
        },
        "id": "83DODEPG4FiU",
        "outputId": "dcbde959-bf8a-4e1a-dda1-191c7f13f640"
      },
      "execution_count": 67,
      "outputs": [
        {
          "output_type": "execute_result",
          "data": {
            "text/plain": [
              "array(['crucian carp', 'crucian carp', 'roach', 'pike', 'roach',\n",
              "       'crucian carp', 'crucian carp', 'crucian carp', 'pike',\n",
              "       'crucian carp'], dtype='<U12')"
            ]
          },
          "metadata": {},
          "execution_count": 67
        }
      ]
    },
    {
      "cell_type": "markdown",
      "source": [
        "## 6. Seeds\n",
        "\n",
        "If you run the command `stats.norm(loc=3, scale=2).rvs(5)` on two different computers or twice on the same one, the results will be different. After all, they are random! :)\n"
      ],
      "metadata": {
        "id": "WWoHcCln4GgO"
      }
    },
    {
      "cell_type": "code",
      "source": [
        "rv = stats.norm(loc=3, scale=2)\n",
        "rv.rvs(5)"
      ],
      "metadata": {
        "id": "bn5_gFoV4HGn",
        "colab": {
          "base_uri": "https://localhost:8080/"
        },
        "outputId": "99b56575-efd0-4e87-fb7d-97bb63399f32"
      },
      "execution_count": 68,
      "outputs": [
        {
          "output_type": "execute_result",
          "data": {
            "text/plain": [
              "array([5.5736842 , 6.20445992, 4.4978751 , 6.96580979, 2.50711644])"
            ]
          },
          "metadata": {},
          "execution_count": 68
        }
      ]
    },
    {
      "cell_type": "code",
      "source": [
        "stats.norm(loc=3, scale=2).rvs(5)"
      ],
      "metadata": {
        "id": "2_6mHsy-4HnA",
        "colab": {
          "base_uri": "https://localhost:8080/"
        },
        "outputId": "261642d5-0fcd-422f-f963-64df4767315f"
      },
      "execution_count": 69,
      "outputs": [
        {
          "output_type": "execute_result",
          "data": {
            "text/plain": [
              "array([1.84096444, 3.04407465, 1.89114552, 4.53338823, 1.08272226])"
            ]
          },
          "metadata": {},
          "execution_count": 69
        }
      ]
    },
    {
      "cell_type": "markdown",
      "source": [
        "However, generating random variables does not contradict the idea of perfectly reproducible research. To get the same results, it is necessary to synchronize the random number generators on these two computers. This is done by setting the random number generator's seed. The seed is also called the starting value. Any integer will work as a seed.\n"
      ],
      "metadata": {
        "id": "Y6AYO5qD4Ijx"
      }
    },
    {
      "cell_type": "code",
      "source": [
        "stats.norm(loc=3, scale=2).rvs(5, random_state=111)"
      ],
      "metadata": {
        "id": "s7UWHNmm4JaU",
        "colab": {
          "base_uri": "https://localhost:8080/"
        },
        "outputId": "6acd2125-bb8b-4b83-e981-68beda49df3e"
      },
      "execution_count": 70,
      "outputs": [
        {
          "output_type": "execute_result",
          "data": {
            "text/plain": [
              "array([0.73232333, 3.76863839, 5.99310755, 2.28923541, 1.42493292])"
            ]
          },
          "metadata": {},
          "execution_count": 70
        }
      ]
    },
    {
      "cell_type": "markdown",
      "source": [
        "__Guess which numbers are most often used as seeds?__\n",
        "\n",
        "Many algorithms in data analysis are in some way based on randomness (e.g., the initial weights in training might be drawn from some distribution, or the training might be done on a random subsample). To achieve reproducible, consistent results that don't depend on the run, you need to set the generation seed."
      ],
      "metadata": {
        "id": "wmw5qYgz4KHr"
      }
    },
    {
      "cell_type": "markdown",
      "source": [
        "## 7. More Problems!"
      ],
      "metadata": {
        "id": "UcHPIGf94Lmx"
      }
    },
    {
      "cell_type": "markdown",
      "source": [
        "### Problem 4 (Spam)\n",
        "\n",
        "> Stars are better seen from the roof,climb up and check it yourself.\n",
        "> You've been waiting for this sign from above, and you marked it as spam.\n",
        "\n",
        "Suppose the number of spam emails you receive follows a Poisson distribution.  Assume you receive an average of three spam emails per day. What proportion of days do you receive five or more spam emails?"
      ],
      "metadata": {
        "id": "rNpnG5A-4M3g"
      }
    },
    {
      "cell_type": "code",
      "source": [],
      "metadata": {
        "id": "AkUr98d_O8tY"
      },
      "execution_count": 70,
      "outputs": []
    },
    {
      "cell_type": "markdown",
      "source": [
        "### Problem 5 (A Very Important Problem Where Nothing Works)\n",
        "\n",
        "\n",
        "Unfortunately, the capabilities of simulations are quite limited. Everything can break.\n",
        "\n",
        "(a) Let X ~ N(0, 3). Try to estimate $E(1 / (X^2 + 1))$ using simulations. Run the code multiple times. Does the estimate behave consistently?"
      ],
      "metadata": {
        "id": "zdbkLSm84Pfg"
      }
    },
    {
      "cell_type": "code",
      "source": [
        "norm_rv = stats.norm(loc=0, scale=3)\n",
        "x = norm_rv.rvs(10**5)\n",
        "y = 1 / (x**2 + 1)\n",
        "np.mean(y)"
      ],
      "metadata": {
        "id": "Lf5sQ01AO-iz",
        "colab": {
          "base_uri": "https://localhost:8080/"
        },
        "outputId": "2fd9b55d-3ebd-4c1c-f1fa-0f834882be20"
      },
      "execution_count": 160,
      "outputs": [
        {
          "output_type": "execute_result",
          "data": {
            "text/plain": [
              "0.3274881348271614"
            ]
          },
          "metadata": {},
          "execution_count": 160
        }
      ]
    },
    {
      "cell_type": "markdown",
      "source": [
        "(b) Do the same for $\\mathbb{E}\\left(\\frac{1}{X}\\right)$. Does the estimate behave consistently? Explain why this happens.\n",
        "\n"
      ],
      "metadata": {
        "id": "dRMUUKYM4SKZ"
      }
    },
    {
      "cell_type": "code",
      "source": [
        "x = norm_rv.rvs(10**5)\n",
        "y = 1/x\n",
        "np.mean(y)"
      ],
      "metadata": {
        "id": "oyJJB0yfPAKk",
        "colab": {
          "base_uri": "https://localhost:8080/"
        },
        "outputId": "eb473351-28ff-49c7-e442-9115036568b9"
      },
      "execution_count": 168,
      "outputs": [
        {
          "output_type": "execute_result",
          "data": {
            "text/plain": [
              "-0.18615260298813097"
            ]
          },
          "metadata": {},
          "execution_count": 168
        }
      ]
    },
    {
      "cell_type": "markdown",
      "source": [
        "This happens due to division by zero, as the random variable $1/\\text{N}(0,3)$ has a Cauchy distribution. As is well known, this distribution does not have a defined expected value...\n",
        "\n",
        "\n"
      ],
      "metadata": {
        "id": "D3yC0YPH4VqU"
      }
    },
    {
      "cell_type": "markdown",
      "source": [
        "### Problem 6 (The Man and the Steamboat)\n",
        "\n",
        "Ivan Fyodorovich Kruzenshtern (WHAT?!) randomly selects $10$ natural numbers from $1$ to $100$, with repetitions allowed. Let $X$ be the minimum of these numbers, and $Y$ be the maximum.\n",
        "\n",
        "Use simulations to estimate the quantities below. Utilize vectorized computations in numpy!\n",
        "\n",
        "__a)__ $\\mathbb{P}(Y > 3X)$"
      ],
      "metadata": {
        "id": "7y8drdnm4Wnc"
      }
    },
    {
      "cell_type": "code",
      "source": [],
      "metadata": {
        "id": "eYcg9_fJPCad"
      },
      "execution_count": 70,
      "outputs": []
    },
    {
      "cell_type": "markdown",
      "source": [
        "__b)__ $\\mathbb{E}(X \\cdot Y)$"
      ],
      "metadata": {
        "id": "FML8hX_b4Zyu"
      }
    },
    {
      "cell_type": "code",
      "source": [],
      "metadata": {
        "id": "Sgk1BhELPEVP"
      },
      "execution_count": 70,
      "outputs": []
    },
    {
      "cell_type": "markdown",
      "source": [
        "__c)__ $\\mathbb{P}(Y > 3X \\mid Y < X^2)$"
      ],
      "metadata": {
        "id": "kSWaPrVB4acP"
      }
    },
    {
      "cell_type": "code",
      "source": [],
      "metadata": {
        "id": "Jm5tOWtKPFQO"
      },
      "execution_count": 70,
      "outputs": []
    },
    {
      "cell_type": "markdown",
      "source": [
        "__d)__ $\\mathbb{E}(X \\cdot Y \\mid Y < X^2)$"
      ],
      "metadata": {
        "id": "fatHhBES4cu6"
      }
    },
    {
      "cell_type": "code",
      "source": [],
      "metadata": {
        "id": "ZBZWa8cdPGAF"
      },
      "execution_count": 70,
      "outputs": []
    },
    {
      "cell_type": "markdown",
      "source": [
        "__e)__ $\\mathbb{E}\\left(\\frac{X}{X + Y} \\right)$"
      ],
      "metadata": {
        "id": "njQ1LC5y4fwi"
      }
    },
    {
      "cell_type": "code",
      "source": [],
      "metadata": {
        "id": "GO6_-231PHPH"
      },
      "execution_count": 70,
      "outputs": []
    },
    {
      "cell_type": "markdown",
      "source": [
        "__f)__ $\\text{Corr}(X,Y)$"
      ],
      "metadata": {
        "id": "utU_j8Ec4hPF"
      }
    },
    {
      "cell_type": "code",
      "source": [],
      "metadata": {
        "id": "-GKCBWu8PH-g"
      },
      "execution_count": 70,
      "outputs": []
    },
    {
      "cell_type": "markdown",
      "source": [
        "__(g)__ Plot a scatter plot for a sample of 1000 observations of (x, y)\n"
      ],
      "metadata": {
        "id": "op_PoArp4jPK"
      }
    },
    {
      "cell_type": "code",
      "source": [],
      "metadata": {
        "id": "PnZRwmYoPI_D"
      },
      "execution_count": 70,
      "outputs": []
    },
    {
      "cell_type": "markdown",
      "source": [
        "__h)__ Draw a histogram for $X$, mark median and mean with dashed lines and various colors."
      ],
      "metadata": {
        "id": "E07K3ndN7C5o"
      }
    },
    {
      "cell_type": "code",
      "source": [],
      "metadata": {
        "id": "r1eLeWBVPQGD"
      },
      "execution_count": 70,
      "outputs": []
    },
    {
      "cell_type": "markdown",
      "source": [
        "### Problem 7 (Neural Networks)\n",
        "\n",
        "\n",
        "Yura has two neural networks and two servers and started training them. The two neural networks are trained independently on two servers. The training times  $T_1$ and $T_2$ are uniformly distributed on the interval [1, 3] (training time is measured in minutes). During training, a server might crash. The crash time T is exponentially distributed with parameter $\\lambda = 0.3$. The server crash time is independent of the training times of the neural networks. It is known that one of the neural networks managed to finish training, while the other did not. What is the probability that $T \\le 1.5$?\n",
        "\n",
        "**Hint:** Remember that you have two neural networks when solving this problem!\n"
      ],
      "metadata": {
        "id": "gOEsSbW07GVI"
      }
    },
    {
      "cell_type": "code",
      "source": [
        "stats.uniform(1, 2).rvs(10) # rv [1, 3]"
      ],
      "metadata": {
        "colab": {
          "base_uri": "https://localhost:8080/"
        },
        "id": "khYknkSea0M3",
        "outputId": "a23ba457-b060-4f27-dd07-1570d0f5ba2f"
      },
      "execution_count": 170,
      "outputs": [
        {
          "output_type": "execute_result",
          "data": {
            "text/plain": [
              "array([1.2266386 , 1.42907053, 2.76430502, 2.80363946, 1.29532644,\n",
              "       2.2497364 , 1.47063652, 2.1861949 , 2.93415903, 2.72048448])"
            ]
          },
          "metadata": {},
          "execution_count": 170
        }
      ]
    },
    {
      "cell_type": "code",
      "source": [
        "n_obs = 10**7\n",
        "t1 = stats.uniform.rvs(1, 2, n_obs)\n",
        "t2 = stats.uniform.rvs(1, 2, n_obs)\n",
        "t = stats.expon.rvs(scale=0.3, size=n_obs)\n",
        "\n",
        "cond1 = (t1 >= t) & (t2 < t)\n",
        "cond2 = (t1 < t) & (t2 >= t)\n",
        "\n",
        "np.mean(cond1|cond2) # full probability"
      ],
      "metadata": {
        "id": "QLQ6zzF0PNV-",
        "colab": {
          "base_uri": "https://localhost:8080/"
        },
        "outputId": "a8156c80-0bf0-4bf4-a5b1-c455ea9290d9"
      },
      "execution_count": 193,
      "outputs": [
        {
          "output_type": "execute_result",
          "data": {
            "text/plain": [
              "0.0075079"
            ]
          },
          "metadata": {},
          "execution_count": 193
        }
      ]
    },
    {
      "cell_type": "code",
      "source": [
        "len(t[cond1|cond2]) # how many outcomes met the conditions"
      ],
      "metadata": {
        "colab": {
          "base_uri": "https://localhost:8080/"
        },
        "id": "l_apfxvbb3Mr",
        "outputId": "12f81747-d152-408f-9141-db5d2c0a2a76"
      },
      "execution_count": 194,
      "outputs": [
        {
          "output_type": "execute_result",
          "data": {
            "text/plain": [
              "75079"
            ]
          },
          "metadata": {},
          "execution_count": 194
        }
      ]
    },
    {
      "cell_type": "code",
      "source": [
        "np.mean(t[cond1|cond2] <= 1.5)"
      ],
      "metadata": {
        "colab": {
          "base_uri": "https://localhost:8080/"
        },
        "id": "0vBFicY_cklS",
        "outputId": "a0ccaaac-33e6-4cdd-b92a-cf55d7f5f5aa"
      },
      "execution_count": 195,
      "outputs": [
        {
          "output_type": "execute_result",
          "data": {
            "text/plain": [
              "0.6052957551379214"
            ]
          },
          "metadata": {},
          "execution_count": 195
        }
      ]
    }
  ]
}